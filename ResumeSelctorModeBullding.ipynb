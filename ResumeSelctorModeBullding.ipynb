{
  "cells": [
    {
      "cell_type": "code",
      "execution_count": null,
      "metadata": {
        "id": "DBsWRc8d1jFq"
      },
      "outputs": [],
      "source": [
        "import numpy as np # linear algebra\n",
        "import pandas as pd # data processing, CSV file I/O (e.g. pd.read_csv)"
      ]
    },
    {
      "cell_type": "code",
      "execution_count": null,
      "metadata": {
        "colab": {
          "base_uri": "https://localhost:8080/",
          "height": 424
        },
        "id": "EPDHjc7XX6Yg",
        "outputId": "975690b9-925f-4b15-e40e-baadfffed0d8"
      },
      "outputs": [
        {
          "data": {
            "text/html": [
              "\n",
              "  <div id=\"df-706c91e2-2b7c-467d-b671-59da25972f02\" class=\"colab-df-container\">\n",
              "    <div>\n",
              "<style scoped>\n",
              "    .dataframe tbody tr th:only-of-type {\n",
              "        vertical-align: middle;\n",
              "    }\n",
              "\n",
              "    .dataframe tbody tr th {\n",
              "        vertical-align: top;\n",
              "    }\n",
              "\n",
              "    .dataframe thead th {\n",
              "        text-align: right;\n",
              "    }\n",
              "</style>\n",
              "<table border=\"1\" class=\"dataframe\">\n",
              "  <thead>\n",
              "    <tr style=\"text-align: right;\">\n",
              "      <th></th>\n",
              "      <th>Category</th>\n",
              "      <th>Resume</th>\n",
              "    </tr>\n",
              "  </thead>\n",
              "  <tbody>\n",
              "    <tr>\n",
              "      <th>0</th>\n",
              "      <td>Data Science</td>\n",
              "      <td>Skills * Programming Languages: Python (pandas...</td>\n",
              "    </tr>\n",
              "    <tr>\n",
              "      <th>1</th>\n",
              "      <td>Data Science</td>\n",
              "      <td>Education Details \\r\\nMay 2013 to May 2017 B.E...</td>\n",
              "    </tr>\n",
              "    <tr>\n",
              "      <th>2</th>\n",
              "      <td>Data Science</td>\n",
              "      <td>Areas of Interest Deep Learning, Control Syste...</td>\n",
              "    </tr>\n",
              "    <tr>\n",
              "      <th>3</th>\n",
              "      <td>Data Science</td>\n",
              "      <td>Skills â¢ R â¢ Python â¢ SAP HANA â¢ Table...</td>\n",
              "    </tr>\n",
              "    <tr>\n",
              "      <th>4</th>\n",
              "      <td>Data Science</td>\n",
              "      <td>Education Details \\r\\n MCA   YMCAUST,  Faridab...</td>\n",
              "    </tr>\n",
              "    <tr>\n",
              "      <th>...</th>\n",
              "      <td>...</td>\n",
              "      <td>...</td>\n",
              "    </tr>\n",
              "    <tr>\n",
              "      <th>957</th>\n",
              "      <td>Testing</td>\n",
              "      <td>Computer Skills: â¢ Proficient in MS office (...</td>\n",
              "    </tr>\n",
              "    <tr>\n",
              "      <th>958</th>\n",
              "      <td>Testing</td>\n",
              "      <td>â Willingness to accept the challenges. â ...</td>\n",
              "    </tr>\n",
              "    <tr>\n",
              "      <th>959</th>\n",
              "      <td>Testing</td>\n",
              "      <td>PERSONAL SKILLS â¢ Quick learner, â¢ Eagerne...</td>\n",
              "    </tr>\n",
              "    <tr>\n",
              "      <th>960</th>\n",
              "      <td>Testing</td>\n",
              "      <td>COMPUTER SKILLS &amp; SOFTWARE KNOWLEDGE MS-Power ...</td>\n",
              "    </tr>\n",
              "    <tr>\n",
              "      <th>961</th>\n",
              "      <td>Testing</td>\n",
              "      <td>Skill Set OS Windows XP/7/8/8.1/10 Database MY...</td>\n",
              "    </tr>\n",
              "  </tbody>\n",
              "</table>\n",
              "<p>962 rows × 2 columns</p>\n",
              "</div>\n",
              "    <div class=\"colab-df-buttons\">\n",
              "\n",
              "  <div class=\"colab-df-container\">\n",
              "    <button class=\"colab-df-convert\" onclick=\"convertToInteractive('df-706c91e2-2b7c-467d-b671-59da25972f02')\"\n",
              "            title=\"Convert this dataframe to an interactive table.\"\n",
              "            style=\"display:none;\">\n",
              "\n",
              "  <svg xmlns=\"http://www.w3.org/2000/svg\" height=\"24px\" viewBox=\"0 -960 960 960\">\n",
              "    <path d=\"M120-120v-720h720v720H120Zm60-500h600v-160H180v160Zm220 220h160v-160H400v160Zm0 220h160v-160H400v160ZM180-400h160v-160H180v160Zm440 0h160v-160H620v160ZM180-180h160v-160H180v160Zm440 0h160v-160H620v160Z\"/>\n",
              "  </svg>\n",
              "    </button>\n",
              "\n",
              "  <style>\n",
              "    .colab-df-container {\n",
              "      display:flex;\n",
              "      gap: 12px;\n",
              "    }\n",
              "\n",
              "    .colab-df-convert {\n",
              "      background-color: #E8F0FE;\n",
              "      border: none;\n",
              "      border-radius: 50%;\n",
              "      cursor: pointer;\n",
              "      display: none;\n",
              "      fill: #1967D2;\n",
              "      height: 32px;\n",
              "      padding: 0 0 0 0;\n",
              "      width: 32px;\n",
              "    }\n",
              "\n",
              "    .colab-df-convert:hover {\n",
              "      background-color: #E2EBFA;\n",
              "      box-shadow: 0px 1px 2px rgba(60, 64, 67, 0.3), 0px 1px 3px 1px rgba(60, 64, 67, 0.15);\n",
              "      fill: #174EA6;\n",
              "    }\n",
              "\n",
              "    .colab-df-buttons div {\n",
              "      margin-bottom: 4px;\n",
              "    }\n",
              "\n",
              "    [theme=dark] .colab-df-convert {\n",
              "      background-color: #3B4455;\n",
              "      fill: #D2E3FC;\n",
              "    }\n",
              "\n",
              "    [theme=dark] .colab-df-convert:hover {\n",
              "      background-color: #434B5C;\n",
              "      box-shadow: 0px 1px 3px 1px rgba(0, 0, 0, 0.15);\n",
              "      filter: drop-shadow(0px 1px 2px rgba(0, 0, 0, 0.3));\n",
              "      fill: #FFFFFF;\n",
              "    }\n",
              "  </style>\n",
              "\n",
              "    <script>\n",
              "      const buttonEl =\n",
              "        document.querySelector('#df-706c91e2-2b7c-467d-b671-59da25972f02 button.colab-df-convert');\n",
              "      buttonEl.style.display =\n",
              "        google.colab.kernel.accessAllowed ? 'block' : 'none';\n",
              "\n",
              "      async function convertToInteractive(key) {\n",
              "        const element = document.querySelector('#df-706c91e2-2b7c-467d-b671-59da25972f02');\n",
              "        const dataTable =\n",
              "          await google.colab.kernel.invokeFunction('convertToInteractive',\n",
              "                                                    [key], {});\n",
              "        if (!dataTable) return;\n",
              "\n",
              "        const docLinkHtml = 'Like what you see? Visit the ' +\n",
              "          '<a target=\"_blank\" href=https://colab.research.google.com/notebooks/data_table.ipynb>data table notebook</a>'\n",
              "          + ' to learn more about interactive tables.';\n",
              "        element.innerHTML = '';\n",
              "        dataTable['output_type'] = 'display_data';\n",
              "        await google.colab.output.renderOutput(dataTable, element);\n",
              "        const docLink = document.createElement('div');\n",
              "        docLink.innerHTML = docLinkHtml;\n",
              "        element.appendChild(docLink);\n",
              "      }\n",
              "    </script>\n",
              "  </div>\n",
              "\n",
              "\n",
              "<div id=\"df-7be2c4c6-1112-4de1-9336-511ded243deb\">\n",
              "  <button class=\"colab-df-quickchart\" onclick=\"quickchart('df-7be2c4c6-1112-4de1-9336-511ded243deb')\"\n",
              "            title=\"Suggest charts\"\n",
              "            style=\"display:none;\">\n",
              "\n",
              "<svg xmlns=\"http://www.w3.org/2000/svg\" height=\"24px\"viewBox=\"0 0 24 24\"\n",
              "     width=\"24px\">\n",
              "    <g>\n",
              "        <path d=\"M19 3H5c-1.1 0-2 .9-2 2v14c0 1.1.9 2 2 2h14c1.1 0 2-.9 2-2V5c0-1.1-.9-2-2-2zM9 17H7v-7h2v7zm4 0h-2V7h2v10zm4 0h-2v-4h2v4z\"/>\n",
              "    </g>\n",
              "</svg>\n",
              "  </button>\n",
              "\n",
              "<style>\n",
              "  .colab-df-quickchart {\n",
              "      --bg-color: #E8F0FE;\n",
              "      --fill-color: #1967D2;\n",
              "      --hover-bg-color: #E2EBFA;\n",
              "      --hover-fill-color: #174EA6;\n",
              "      --disabled-fill-color: #AAA;\n",
              "      --disabled-bg-color: #DDD;\n",
              "  }\n",
              "\n",
              "  [theme=dark] .colab-df-quickchart {\n",
              "      --bg-color: #3B4455;\n",
              "      --fill-color: #D2E3FC;\n",
              "      --hover-bg-color: #434B5C;\n",
              "      --hover-fill-color: #FFFFFF;\n",
              "      --disabled-bg-color: #3B4455;\n",
              "      --disabled-fill-color: #666;\n",
              "  }\n",
              "\n",
              "  .colab-df-quickchart {\n",
              "    background-color: var(--bg-color);\n",
              "    border: none;\n",
              "    border-radius: 50%;\n",
              "    cursor: pointer;\n",
              "    display: none;\n",
              "    fill: var(--fill-color);\n",
              "    height: 32px;\n",
              "    padding: 0;\n",
              "    width: 32px;\n",
              "  }\n",
              "\n",
              "  .colab-df-quickchart:hover {\n",
              "    background-color: var(--hover-bg-color);\n",
              "    box-shadow: 0 1px 2px rgba(60, 64, 67, 0.3), 0 1px 3px 1px rgba(60, 64, 67, 0.15);\n",
              "    fill: var(--button-hover-fill-color);\n",
              "  }\n",
              "\n",
              "  .colab-df-quickchart-complete:disabled,\n",
              "  .colab-df-quickchart-complete:disabled:hover {\n",
              "    background-color: var(--disabled-bg-color);\n",
              "    fill: var(--disabled-fill-color);\n",
              "    box-shadow: none;\n",
              "  }\n",
              "\n",
              "  .colab-df-spinner {\n",
              "    border: 2px solid var(--fill-color);\n",
              "    border-color: transparent;\n",
              "    border-bottom-color: var(--fill-color);\n",
              "    animation:\n",
              "      spin 1s steps(1) infinite;\n",
              "  }\n",
              "\n",
              "  @keyframes spin {\n",
              "    0% {\n",
              "      border-color: transparent;\n",
              "      border-bottom-color: var(--fill-color);\n",
              "      border-left-color: var(--fill-color);\n",
              "    }\n",
              "    20% {\n",
              "      border-color: transparent;\n",
              "      border-left-color: var(--fill-color);\n",
              "      border-top-color: var(--fill-color);\n",
              "    }\n",
              "    30% {\n",
              "      border-color: transparent;\n",
              "      border-left-color: var(--fill-color);\n",
              "      border-top-color: var(--fill-color);\n",
              "      border-right-color: var(--fill-color);\n",
              "    }\n",
              "    40% {\n",
              "      border-color: transparent;\n",
              "      border-right-color: var(--fill-color);\n",
              "      border-top-color: var(--fill-color);\n",
              "    }\n",
              "    60% {\n",
              "      border-color: transparent;\n",
              "      border-right-color: var(--fill-color);\n",
              "    }\n",
              "    80% {\n",
              "      border-color: transparent;\n",
              "      border-right-color: var(--fill-color);\n",
              "      border-bottom-color: var(--fill-color);\n",
              "    }\n",
              "    90% {\n",
              "      border-color: transparent;\n",
              "      border-bottom-color: var(--fill-color);\n",
              "    }\n",
              "  }\n",
              "</style>\n",
              "\n",
              "  <script>\n",
              "    async function quickchart(key) {\n",
              "      const quickchartButtonEl =\n",
              "        document.querySelector('#' + key + ' button');\n",
              "      quickchartButtonEl.disabled = true;  // To prevent multiple clicks.\n",
              "      quickchartButtonEl.classList.add('colab-df-spinner');\n",
              "      try {\n",
              "        const charts = await google.colab.kernel.invokeFunction(\n",
              "            'suggestCharts', [key], {});\n",
              "      } catch (error) {\n",
              "        console.error('Error during call to suggestCharts:', error);\n",
              "      }\n",
              "      quickchartButtonEl.classList.remove('colab-df-spinner');\n",
              "      quickchartButtonEl.classList.add('colab-df-quickchart-complete');\n",
              "    }\n",
              "    (() => {\n",
              "      let quickchartButtonEl =\n",
              "        document.querySelector('#df-7be2c4c6-1112-4de1-9336-511ded243deb button');\n",
              "      quickchartButtonEl.style.display =\n",
              "        google.colab.kernel.accessAllowed ? 'block' : 'none';\n",
              "    })();\n",
              "  </script>\n",
              "</div>\n",
              "\n",
              "  <div id=\"id_7a071697-5731-4c21-a969-1562d4059502\">\n",
              "    <style>\n",
              "      .colab-df-generate {\n",
              "        background-color: #E8F0FE;\n",
              "        border: none;\n",
              "        border-radius: 50%;\n",
              "        cursor: pointer;\n",
              "        display: none;\n",
              "        fill: #1967D2;\n",
              "        height: 32px;\n",
              "        padding: 0 0 0 0;\n",
              "        width: 32px;\n",
              "      }\n",
              "\n",
              "      .colab-df-generate:hover {\n",
              "        background-color: #E2EBFA;\n",
              "        box-shadow: 0px 1px 2px rgba(60, 64, 67, 0.3), 0px 1px 3px 1px rgba(60, 64, 67, 0.15);\n",
              "        fill: #174EA6;\n",
              "      }\n",
              "\n",
              "      [theme=dark] .colab-df-generate {\n",
              "        background-color: #3B4455;\n",
              "        fill: #D2E3FC;\n",
              "      }\n",
              "\n",
              "      [theme=dark] .colab-df-generate:hover {\n",
              "        background-color: #434B5C;\n",
              "        box-shadow: 0px 1px 3px 1px rgba(0, 0, 0, 0.15);\n",
              "        filter: drop-shadow(0px 1px 2px rgba(0, 0, 0, 0.3));\n",
              "        fill: #FFFFFF;\n",
              "      }\n",
              "    </style>\n",
              "    <button class=\"colab-df-generate\" onclick=\"generateWithVariable('df')\"\n",
              "            title=\"Generate code using this dataframe.\"\n",
              "            style=\"display:none;\">\n",
              "\n",
              "  <svg xmlns=\"http://www.w3.org/2000/svg\" height=\"24px\"viewBox=\"0 0 24 24\"\n",
              "       width=\"24px\">\n",
              "    <path d=\"M7,19H8.4L18.45,9,17,7.55,7,17.6ZM5,21V16.75L18.45,3.32a2,2,0,0,1,2.83,0l1.4,1.43a1.91,1.91,0,0,1,.58,1.4,1.91,1.91,0,0,1-.58,1.4L9.25,21ZM18.45,9,17,7.55Zm-12,3A5.31,5.31,0,0,0,4.9,8.1,5.31,5.31,0,0,0,1,6.5,5.31,5.31,0,0,0,4.9,4.9,5.31,5.31,0,0,0,6.5,1,5.31,5.31,0,0,0,8.1,4.9,5.31,5.31,0,0,0,12,6.5,5.46,5.46,0,0,0,6.5,12Z\"/>\n",
              "  </svg>\n",
              "    </button>\n",
              "    <script>\n",
              "      (() => {\n",
              "      const buttonEl =\n",
              "        document.querySelector('#id_7a071697-5731-4c21-a969-1562d4059502 button.colab-df-generate');\n",
              "      buttonEl.style.display =\n",
              "        google.colab.kernel.accessAllowed ? 'block' : 'none';\n",
              "\n",
              "      buttonEl.onclick = () => {\n",
              "        google.colab.notebook.generateWithVariable('df');\n",
              "      }\n",
              "      })();\n",
              "    </script>\n",
              "  </div>\n",
              "\n",
              "    </div>\n",
              "  </div>\n"
            ],
            "text/plain": [
              "         Category                                             Resume\n",
              "0    Data Science  Skills * Programming Languages: Python (pandas...\n",
              "1    Data Science  Education Details \\r\\nMay 2013 to May 2017 B.E...\n",
              "2    Data Science  Areas of Interest Deep Learning, Control Syste...\n",
              "3    Data Science  Skills â¢ R â¢ Python â¢ SAP HANA â¢ Table...\n",
              "4    Data Science  Education Details \\r\\n MCA   YMCAUST,  Faridab...\n",
              "..            ...                                                ...\n",
              "957       Testing  Computer Skills: â¢ Proficient in MS office (...\n",
              "958       Testing  â Willingness to accept the challenges. â ...\n",
              "959       Testing  PERSONAL SKILLS â¢ Quick learner, â¢ Eagerne...\n",
              "960       Testing  COMPUTER SKILLS & SOFTWARE KNOWLEDGE MS-Power ...\n",
              "961       Testing  Skill Set OS Windows XP/7/8/8.1/10 Database MY...\n",
              "\n",
              "[962 rows x 2 columns]"
            ]
          },
          "execution_count": 2,
          "metadata": {},
          "output_type": "execute_result"
        }
      ],
      "source": [
        "df = pd.read_csv(\"/content/UpdatedResumeDataSet.csv\")\n",
        "df"
      ]
    },
    {
      "cell_type": "code",
      "execution_count": null,
      "metadata": {
        "colab": {
          "base_uri": "https://localhost:8080/"
        },
        "id": "UyOsjAwmYNMs",
        "outputId": "bb965b48-8056-44dc-b181-1b1e91df2b97"
      },
      "outputs": [
        {
          "data": {
            "text/plain": [
              "Category    0\n",
              "Resume      0\n",
              "dtype: int64"
            ]
          },
          "execution_count": 3,
          "metadata": {},
          "output_type": "execute_result"
        }
      ],
      "source": [
        "df.isnull().sum()"
      ]
    },
    {
      "cell_type": "code",
      "execution_count": null,
      "metadata": {
        "id": "NFDgS6QuZ9D8"
      },
      "outputs": [],
      "source": [
        "import seaborn as sns\n",
        "from matplotlib import pyplot as plt\n",
        "from sklearn.feature_extraction.text import CountVectorizer\n",
        "from sklearn.naive_bayes import MultinomialNB\n",
        "from sklearn.model_selection import train_test_split"
      ]
    },
    {
      "cell_type": "code",
      "execution_count": null,
      "metadata": {
        "id": "Lk-OHZnkZ_aY"
      },
      "outputs": [],
      "source": [
        "labels = df['Category']"
      ]
    },
    {
      "cell_type": "code",
      "execution_count": null,
      "metadata": {
        "colab": {
          "base_uri": "https://localhost:8080/"
        },
        "id": "ihuuuTmcaBKN",
        "outputId": "a3c42601-2e86-46fc-9bb5-0505f32fa0d1"
      },
      "outputs": [
        {
          "data": {
            "text/plain": [
              "Java Developer               84\n",
              "Testing                      70\n",
              "DevOps Engineer              55\n",
              "Python Developer             48\n",
              "Web Designing                45\n",
              "HR                           44\n",
              "Hadoop                       42\n",
              "Blockchain                   40\n",
              "ETL Developer                40\n",
              "Operations Manager           40\n",
              "Data Science                 40\n",
              "Sales                        40\n",
              "Mechanical Engineer          40\n",
              "Arts                         36\n",
              "Database                     33\n",
              "Electrical Engineering       30\n",
              "Health and fitness           30\n",
              "PMO                          30\n",
              "Business Analyst             28\n",
              "DotNet Developer             28\n",
              "Automation Testing           26\n",
              "Network Security Engineer    25\n",
              "SAP Developer                24\n",
              "Civil Engineer               24\n",
              "Advocate                     20\n",
              "Name: Category, dtype: int64"
            ]
          },
          "execution_count": 6,
          "metadata": {},
          "output_type": "execute_result"
        }
      ],
      "source": [
        "labels.value_counts()"
      ]
    },
    {
      "cell_type": "code",
      "execution_count": null,
      "metadata": {
        "colab": {
          "base_uri": "https://localhost:8080/",
          "height": 324
        },
        "id": "1-mXT6zKaDT7",
        "outputId": "7322299b-4f6e-468f-d391-5eadbca49b97"
      },
      "outputs": [
        {
          "data": {
            "image/png": "[encoded data removed]",
            "text/plain": [
              "<Figure size 4000x900 with 1 Axes>"
            ]
          },
          "metadata": {},
          "output_type": "display_data"
        }
      ],
      "source": [
        "plt.figure(figsize=(40,9))\n",
        "sns.countplot(x ='Category', data= df, order= df['Category'].value_counts().index)\n",
        "plt.show()"
      ]
    },
    {
      "cell_type": "code",
      "execution_count": null,
      "metadata": {
        "id": "x0_NuSwcaHXb"
      },
      "outputs": [],
      "source": [
        "#data cleaning for the resumes\n",
        "import re\n",
        "def clean_function(resumeText):\n",
        "    resumeText = re.sub('http\\S+\\s*', ' ', resumeText)  # remove URLs\n",
        "    resumeText = re.sub('RT|cc', ' ', resumeText)  # remove RT and cc\n",
        "    resumeText = re.sub('#\\S+', '', resumeText)  # remove hashtags\n",
        "    resumeText = re.sub('@\\S+', '  ', resumeText)  # remove mentions\n",
        "    resumeText = re.sub('[%s]' % re.escape(\"\"\"!\"#$%&'()*+,-./:;<=>?@[\\]^_`{|}~\"\"\"), ' ', resumeText)  # remove punctuations\n",
        "    resumeText = re.sub(r'[^\\x00-\\x7f]',r' ', resumeText)\n",
        "    resumeText = re.sub('\\s+', ' ', resumeText)  # remove extra whitespace\n",
        "    return resumeText"
      ]
    },
    {
      "cell_type": "code",
      "execution_count": null,
      "metadata": {
        "colab": {
          "base_uri": "https://localhost:8080/",
          "height": 424
        },
        "id": "NoyLp-ZGaJrV",
        "outputId": "1ec32400-f897-401b-d34a-6747e55de431"
      },
      "outputs": [
        {
          "data": {
            "text/html": [
              "\n",
              "  <div id=\"df-a8ad5d41-8fae-41cc-a382-394075a689fa\" class=\"colab-df-container\">\n",
              "    <div>\n",
              "<style scoped>\n",
              "    .dataframe tbody tr th:only-of-type {\n",
              "        vertical-align: middle;\n",
              "    }\n",
              "\n",
              "    .dataframe tbody tr th {\n",
              "        vertical-align: top;\n",
              "    }\n",
              "\n",
              "    .dataframe thead th {\n",
              "        text-align: right;\n",
              "    }\n",
              "</style>\n",
              "<table border=\"1\" class=\"dataframe\">\n",
              "  <thead>\n",
              "    <tr style=\"text-align: right;\">\n",
              "      <th></th>\n",
              "      <th>Category</th>\n",
              "      <th>Resume</th>\n",
              "      <th>cleaned_resume</th>\n",
              "    </tr>\n",
              "  </thead>\n",
              "  <tbody>\n",
              "    <tr>\n",
              "      <th>0</th>\n",
              "      <td>Data Science</td>\n",
              "      <td>Skills * Programming Languages: Python (pandas...</td>\n",
              "      <td>Skills Programming Languages Python pandas num...</td>\n",
              "    </tr>\n",
              "    <tr>\n",
              "      <th>1</th>\n",
              "      <td>Data Science</td>\n",
              "      <td>Education Details \\r\\nMay 2013 to May 2017 B.E...</td>\n",
              "      <td>Education Details May 2013 to May 2017 B E UIT...</td>\n",
              "    </tr>\n",
              "    <tr>\n",
              "      <th>2</th>\n",
              "      <td>Data Science</td>\n",
              "      <td>Areas of Interest Deep Learning, Control Syste...</td>\n",
              "      <td>Areas of Interest Deep Learning Control System...</td>\n",
              "    </tr>\n",
              "    <tr>\n",
              "      <th>3</th>\n",
              "      <td>Data Science</td>\n",
              "      <td>Skills â¢ R â¢ Python â¢ SAP HANA â¢ Table...</td>\n",
              "      <td>Skills R Python SAP HANA Tableau SAP HANA SQL ...</td>\n",
              "    </tr>\n",
              "    <tr>\n",
              "      <th>4</th>\n",
              "      <td>Data Science</td>\n",
              "      <td>Education Details \\r\\n MCA   YMCAUST,  Faridab...</td>\n",
              "      <td>Education Details MCA YMCAUST Faridabad Haryan...</td>\n",
              "    </tr>\n",
              "    <tr>\n",
              "      <th>...</th>\n",
              "      <td>...</td>\n",
              "      <td>...</td>\n",
              "      <td>...</td>\n",
              "    </tr>\n",
              "    <tr>\n",
              "      <th>957</th>\n",
              "      <td>Testing</td>\n",
              "      <td>Computer Skills: â¢ Proficient in MS office (...</td>\n",
              "      <td>Computer Skills Proficient in MS office Word B...</td>\n",
              "    </tr>\n",
              "    <tr>\n",
              "      <th>958</th>\n",
              "      <td>Testing</td>\n",
              "      <td>â Willingness to accept the challenges. â ...</td>\n",
              "      <td>Willingness to a ept the challenges Positive ...</td>\n",
              "    </tr>\n",
              "    <tr>\n",
              "      <th>959</th>\n",
              "      <td>Testing</td>\n",
              "      <td>PERSONAL SKILLS â¢ Quick learner, â¢ Eagerne...</td>\n",
              "      <td>PERSONAL SKILLS Quick learner Eagerness to lea...</td>\n",
              "    </tr>\n",
              "    <tr>\n",
              "      <th>960</th>\n",
              "      <td>Testing</td>\n",
              "      <td>COMPUTER SKILLS &amp; SOFTWARE KNOWLEDGE MS-Power ...</td>\n",
              "      <td>COMPUTER SKILLS SOFTWARE KNOWLEDGE MS Power Po...</td>\n",
              "    </tr>\n",
              "    <tr>\n",
              "      <th>961</th>\n",
              "      <td>Testing</td>\n",
              "      <td>Skill Set OS Windows XP/7/8/8.1/10 Database MY...</td>\n",
              "      <td>Skill Set OS Windows XP 7 8 8 1 10 Database MY...</td>\n",
              "    </tr>\n",
              "  </tbody>\n",
              "</table>\n",
              "<p>962 rows × 3 columns</p>\n",
              "</div>\n",
              "    <div class=\"colab-df-buttons\">\n",
              "\n",
              "  <div class=\"colab-df-container\">\n",
              "    <button class=\"colab-df-convert\" onclick=\"convertToInteractive('df-a8ad5d41-8fae-41cc-a382-394075a689fa')\"\n",
              "            title=\"Convert this dataframe to an interactive table.\"\n",
              "            style=\"display:none;\">\n",
              "\n",
              "  <svg xmlns=\"http://www.w3.org/2000/svg\" height=\"24px\" viewBox=\"0 -960 960 960\">\n",
              "    <path d=\"M120-120v-720h720v720H120Zm60-500h600v-160H180v160Zm220 220h160v-160H400v160Zm0 220h160v-160H400v160ZM180-400h160v-160H180v160Zm440 0h160v-160H620v160ZM180-180h160v-160H180v160Zm440 0h160v-160H620v160Z\"/>\n",
              "  </svg>\n",
              "    </button>\n",
              "\n",
              "  <style>\n",
              "    .colab-df-container {\n",
              "      display:flex;\n",
              "      gap: 12px;\n",
              "    }\n",
              "\n",
              "    .colab-df-convert {\n",
              "      background-color: #E8F0FE;\n",
              "      border: none;\n",
              "      border-radius: 50%;\n",
              "      cursor: pointer;\n",
              "      display: none;\n",
              "      fill: #1967D2;\n",
              "      height: 32px;\n",
              "      padding: 0 0 0 0;\n",
              "      width: 32px;\n",
              "    }\n",
              "\n",
              "    .colab-df-convert:hover {\n",
              "      background-color: #E2EBFA;\n",
              "      box-shadow: 0px 1px 2px rgba(60, 64, 67, 0.3), 0px 1px 3px 1px rgba(60, 64, 67, 0.15);\n",
              "      fill: #174EA6;\n",
              "    }\n",
              "\n",
              "    .colab-df-buttons div {\n",
              "      margin-bottom: 4px;\n",
              "    }\n",
              "\n",
              "    [theme=dark] .colab-df-convert {\n",
              "      background-color: #3B4455;\n",
              "      fill: #D2E3FC;\n",
              "    }\n",
              "\n",
              "    [theme=dark] .colab-df-convert:hover {\n",
              "      background-color: #434B5C;\n",
              "      box-shadow: 0px 1px 3px 1px rgba(0, 0, 0, 0.15);\n",
              "      filter: drop-shadow(0px 1px 2px rgba(0, 0, 0, 0.3));\n",
              "      fill: #FFFFFF;\n",
              "    }\n",
              "  </style>\n",
              "\n",
              "    <script>\n",
              "      const buttonEl =\n",
              "        document.querySelector('#df-a8ad5d41-8fae-41cc-a382-394075a689fa button.colab-df-convert');\n",
              "      buttonEl.style.display =\n",
              "        google.colab.kernel.accessAllowed ? 'block' : 'none';\n",
              "\n",
              "      async function convertToInteractive(key) {\n",
              "        const element = document.querySelector('#df-a8ad5d41-8fae-41cc-a382-394075a689fa');\n",
              "        const dataTable =\n",
              "          await google.colab.kernel.invokeFunction('convertToInteractive',\n",
              "                                                    [key], {});\n",
              "        if (!dataTable) return;\n",
              "\n",
              "        const docLinkHtml = 'Like what you see? Visit the ' +\n",
              "          '<a target=\"_blank\" href=https://colab.research.google.com/notebooks/data_table.ipynb>data table notebook</a>'\n",
              "          + ' to learn more about interactive tables.';\n",
              "        element.innerHTML = '';\n",
              "        dataTable['output_type'] = 'display_data';\n",
              "        await google.colab.output.renderOutput(dataTable, element);\n",
              "        const docLink = document.createElement('div');\n",
              "        docLink.innerHTML = docLinkHtml;\n",
              "        element.appendChild(docLink);\n",
              "      }\n",
              "    </script>\n",
              "  </div>\n",
              "\n",
              "\n",
              "<div id=\"df-84ed4a45-5f67-43f2-ad0f-b041edde3989\">\n",
              "  <button class=\"colab-df-quickchart\" onclick=\"quickchart('df-84ed4a45-5f67-43f2-ad0f-b041edde3989')\"\n",
              "            title=\"Suggest charts\"\n",
              "            style=\"display:none;\">\n",
              "\n",
              "<svg xmlns=\"http://www.w3.org/2000/svg\" height=\"24px\"viewBox=\"0 0 24 24\"\n",
              "     width=\"24px\">\n",
              "    <g>\n",
              "        <path d=\"M19 3H5c-1.1 0-2 .9-2 2v14c0 1.1.9 2 2 2h14c1.1 0 2-.9 2-2V5c0-1.1-.9-2-2-2zM9 17H7v-7h2v7zm4 0h-2V7h2v10zm4 0h-2v-4h2v4z\"/>\n",
              "    </g>\n",
              "</svg>\n",
              "  </button>\n",
              "\n",
              "<style>\n",
              "  .colab-df-quickchart {\n",
              "      --bg-color: #E8F0FE;\n",
              "      --fill-color: #1967D2;\n",
              "      --hover-bg-color: #E2EBFA;\n",
              "      --hover-fill-color: #174EA6;\n",
              "      --disabled-fill-color: #AAA;\n",
              "      --disabled-bg-color: #DDD;\n",
              "  }\n",
              "\n",
              "  [theme=dark] .colab-df-quickchart {\n",
              "      --bg-color: #3B4455;\n",
              "      --fill-color: #D2E3FC;\n",
              "      --hover-bg-color: #434B5C;\n",
              "      --hover-fill-color: #FFFFFF;\n",
              "      --disabled-bg-color: #3B4455;\n",
              "      --disabled-fill-color: #666;\n",
              "  }\n",
              "\n",
              "  .colab-df-quickchart {\n",
              "    background-color: var(--bg-color);\n",
              "    border: none;\n",
              "    border-radius: 50%;\n",
              "    cursor: pointer;\n",
              "    display: none;\n",
              "    fill: var(--fill-color);\n",
              "    height: 32px;\n",
              "    padding: 0;\n",
              "    width: 32px;\n",
              "  }\n",
              "\n",
              "  .colab-df-quickchart:hover {\n",
              "    background-color: var(--hover-bg-color);\n",
              "    box-shadow: 0 1px 2px rgba(60, 64, 67, 0.3), 0 1px 3px 1px rgba(60, 64, 67, 0.15);\n",
              "    fill: var(--button-hover-fill-color);\n",
              "  }\n",
              "\n",
              "  .colab-df-quickchart-complete:disabled,\n",
              "  .colab-df-quickchart-complete:disabled:hover {\n",
              "    background-color: var(--disabled-bg-color);\n",
              "    fill: var(--disabled-fill-color);\n",
              "    box-shadow: none;\n",
              "  }\n",
              "\n",
              "  .colab-df-spinner {\n",
              "    border: 2px solid var(--fill-color);\n",
              "    border-color: transparent;\n",
              "    border-bottom-color: var(--fill-color);\n",
              "    animation:\n",
              "      spin 1s steps(1) infinite;\n",
              "  }\n",
              "\n",
              "  @keyframes spin {\n",
              "    0% {\n",
              "      border-color: transparent;\n",
              "      border-bottom-color: var(--fill-color);\n",
              "      border-left-color: var(--fill-color);\n",
              "    }\n",
              "    20% {\n",
              "      border-color: transparent;\n",
              "      border-left-color: var(--fill-color);\n",
              "      border-top-color: var(--fill-color);\n",
              "    }\n",
              "    30% {\n",
              "      border-color: transparent;\n",
              "      border-left-color: var(--fill-color);\n",
              "      border-top-color: var(--fill-color);\n",
              "      border-right-color: var(--fill-color);\n",
              "    }\n",
              "    40% {\n",
              "      border-color: transparent;\n",
              "      border-right-color: var(--fill-color);\n",
              "      border-top-color: var(--fill-color);\n",
              "    }\n",
              "    60% {\n",
              "      border-color: transparent;\n",
              "      border-right-color: var(--fill-color);\n",
              "    }\n",
              "    80% {\n",
              "      border-color: transparent;\n",
              "      border-right-color: var(--fill-color);\n",
              "      border-bottom-color: var(--fill-color);\n",
              "    }\n",
              "    90% {\n",
              "      border-color: transparent;\n",
              "      border-bottom-color: var(--fill-color);\n",
              "    }\n",
              "  }\n",
              "</style>\n",
              "\n",
              "  <script>\n",
              "    async function quickchart(key) {\n",
              "      const quickchartButtonEl =\n",
              "        document.querySelector('#' + key + ' button');\n",
              "      quickchartButtonEl.disabled = true;  // To prevent multiple clicks.\n",
              "      quickchartButtonEl.classList.add('colab-df-spinner');\n",
              "      try {\n",
              "        const charts = await google.colab.kernel.invokeFunction(\n",
              "            'suggestCharts', [key], {});\n",
              "      } catch (error) {\n",
              "        console.error('Error during call to suggestCharts:', error);\n",
              "      }\n",
              "      quickchartButtonEl.classList.remove('colab-df-spinner');\n",
              "      quickchartButtonEl.classList.add('colab-df-quickchart-complete');\n",
              "    }\n",
              "    (() => {\n",
              "      let quickchartButtonEl =\n",
              "        document.querySelector('#df-84ed4a45-5f67-43f2-ad0f-b041edde3989 button');\n",
              "      quickchartButtonEl.style.display =\n",
              "        google.colab.kernel.accessAllowed ? 'block' : 'none';\n",
              "    })();\n",
              "  </script>\n",
              "</div>\n",
              "\n",
              "  <div id=\"id_0e8947cc-d26b-4c93-8067-5fb4b5bdf4ce\">\n",
              "    <style>\n",
              "      .colab-df-generate {\n",
              "        background-color: #E8F0FE;\n",
              "        border: none;\n",
              "        border-radius: 50%;\n",
              "        cursor: pointer;\n",
              "        display: none;\n",
              "        fill: #1967D2;\n",
              "        height: 32px;\n",
              "        padding: 0 0 0 0;\n",
              "        width: 32px;\n",
              "      }\n",
              "\n",
              "      .colab-df-generate:hover {\n",
              "        background-color: #E2EBFA;\n",
              "        box-shadow: 0px 1px 2px rgba(60, 64, 67, 0.3), 0px 1px 3px 1px rgba(60, 64, 67, 0.15);\n",
              "        fill: #174EA6;\n",
              "      }\n",
              "\n",
              "      [theme=dark] .colab-df-generate {\n",
              "        background-color: #3B4455;\n",
              "        fill: #D2E3FC;\n",
              "      }\n",
              "\n",
              "      [theme=dark] .colab-df-generate:hover {\n",
              "        background-color: #434B5C;\n",
              "        box-shadow: 0px 1px 3px 1px rgba(0, 0, 0, 0.15);\n",
              "        filter: drop-shadow(0px 1px 2px rgba(0, 0, 0, 0.3));\n",
              "        fill: #FFFFFF;\n",
              "      }\n",
              "    </style>\n",
              "    <button class=\"colab-df-generate\" onclick=\"generateWithVariable('df')\"\n",
              "            title=\"Generate code using this dataframe.\"\n",
              "            style=\"display:none;\">\n",
              "\n",
              "  <svg xmlns=\"http://www.w3.org/2000/svg\" height=\"24px\"viewBox=\"0 0 24 24\"\n",
              "       width=\"24px\">\n",
              "    <path d=\"M7,19H8.4L18.45,9,17,7.55,7,17.6ZM5,21V16.75L18.45,3.32a2,2,0,0,1,2.83,0l1.4,1.43a1.91,1.91,0,0,1,.58,1.4,1.91,1.91,0,0,1-.58,1.4L9.25,21ZM18.45,9,17,7.55Zm-12,3A5.31,5.31,0,0,0,4.9,8.1,5.31,5.31,0,0,0,1,6.5,5.31,5.31,0,0,0,4.9,4.9,5.31,5.31,0,0,0,6.5,1,5.31,5.31,0,0,0,8.1,4.9,5.31,5.31,0,0,0,12,6.5,5.46,5.46,0,0,0,6.5,12Z\"/>\n",
              "  </svg>\n",
              "    </button>\n",
              "    <script>\n",
              "      (() => {\n",
              "      const buttonEl =\n",
              "        document.querySelector('#id_0e8947cc-d26b-4c93-8067-5fb4b5bdf4ce button.colab-df-generate');\n",
              "      buttonEl.style.display =\n",
              "        google.colab.kernel.accessAllowed ? 'block' : 'none';\n",
              "\n",
              "      buttonEl.onclick = () => {\n",
              "        google.colab.notebook.generateWithVariable('df');\n",
              "      }\n",
              "      })();\n",
              "    </script>\n",
              "  </div>\n",
              "\n",
              "    </div>\n",
              "  </div>\n"
            ],
            "text/plain": [
              "         Category                                             Resume  \\\n",
              "0    Data Science  Skills * Programming Languages: Python (pandas...   \n",
              "1    Data Science  Education Details \\r\\nMay 2013 to May 2017 B.E...   \n",
              "2    Data Science  Areas of Interest Deep Learning, Control Syste...   \n",
              "3    Data Science  Skills â¢ R â¢ Python â¢ SAP HANA â¢ Table...   \n",
              "4    Data Science  Education Details \\r\\n MCA   YMCAUST,  Faridab...   \n",
              "..            ...                                                ...   \n",
              "957       Testing  Computer Skills: â¢ Proficient in MS office (...   \n",
              "958       Testing  â Willingness to accept the challenges. â ...   \n",
              "959       Testing  PERSONAL SKILLS â¢ Quick learner, â¢ Eagerne...   \n",
              "960       Testing  COMPUTER SKILLS & SOFTWARE KNOWLEDGE MS-Power ...   \n",
              "961       Testing  Skill Set OS Windows XP/7/8/8.1/10 Database MY...   \n",
              "\n",
              "                                        cleaned_resume  \n",
              "0    Skills Programming Languages Python pandas num...  \n",
              "1    Education Details May 2013 to May 2017 B E UIT...  \n",
              "2    Areas of Interest Deep Learning Control System...  \n",
              "3    Skills R Python SAP HANA Tableau SAP HANA SQL ...  \n",
              "4    Education Details MCA YMCAUST Faridabad Haryan...  \n",
              "..                                                 ...  \n",
              "957  Computer Skills Proficient in MS office Word B...  \n",
              "958   Willingness to a ept the challenges Positive ...  \n",
              "959  PERSONAL SKILLS Quick learner Eagerness to lea...  \n",
              "960  COMPUTER SKILLS SOFTWARE KNOWLEDGE MS Power Po...  \n",
              "961  Skill Set OS Windows XP 7 8 8 1 10 Database MY...  \n",
              "\n",
              "[962 rows x 3 columns]"
            ]
          },
          "execution_count": 9,
          "metadata": {},
          "output_type": "execute_result"
        }
      ],
      "source": [
        "df['cleaned_resume']=df['Resume'].apply(lambda x:clean_function(x))\n",
        "df"
      ]
    },
    {
      "cell_type": "code",
      "execution_count": null,
      "metadata": {
        "colab": {
          "base_uri": "https://localhost:8080/"
        },
        "id": "EyChCGsgaMU8",
        "outputId": "b6dd6881-0f49-4c8b-eea6-2b453089c589"
      },
      "outputs": [
        {
          "data": {
            "text/plain": [
              "0      Skills Programming Languages Python pandas num...\n",
              "1      Education Details May 2013 to May 2017 B E UIT...\n",
              "2      Areas of Interest Deep Learning Control System...\n",
              "3      Skills R Python SAP HANA Tableau SAP HANA SQL ...\n",
              "4      Education Details MCA YMCAUST Faridabad Haryan...\n",
              "                             ...                        \n",
              "957    Computer Skills Proficient in MS office Word B...\n",
              "958     Willingness to a ept the challenges Positive ...\n",
              "959    PERSONAL SKILLS Quick learner Eagerness to lea...\n",
              "960    COMPUTER SKILLS SOFTWARE KNOWLEDGE MS Power Po...\n",
              "961    Skill Set OS Windows XP 7 8 8 1 10 Database MY...\n",
              "Name: cleaned_resume, Length: 962, dtype: object"
            ]
          },
          "execution_count": 10,
          "metadata": {},
          "output_type": "execute_result"
        }
      ],
      "source": [
        "inputs = df['cleaned_resume']\n",
        "inputs"
      ]
    },
    {
      "cell_type": "code",
      "execution_count": null,
      "metadata": {
        "id": "Xt9iGthSaOej"
      },
      "outputs": [],
      "source": [
        "inputs_train, inputs_test, Ytrain, Ytest = train_test_split(inputs, labels, random_state=123)"
      ]
    },
    {
      "cell_type": "code",
      "execution_count": null,
      "metadata": {
        "id": "tHtQL6q0aRA8"
      },
      "outputs": [],
      "source": [
        "import nltk\n",
        "from nltk import word_tokenize\n",
        "from nltk.stem import WordNetLemmatizer, PorterStemmer\n",
        "from nltk.corpus import wordnet"
      ]
    },
    {
      "cell_type": "code",
      "execution_count": null,
      "metadata": {
        "colab": {
          "base_uri": "https://localhost:8080/"
        },
        "id": "AuKG2Y-HaSgb",
        "outputId": "f1220968-ed85-448a-9c0e-4c170dd647ed"
      },
      "outputs": [
        {
          "name": "stderr",
          "output_type": "stream",
          "text": [
            "[nltk_data] Downloading package wordnet to /root/nltk_data...\n",
            "[nltk_data] Downloading package punkt to /root/nltk_data...\n",
            "[nltk_data]   Unzipping tokenizers/punkt.zip.\n",
            "[nltk_data] Downloading package averaged_perceptron_tagger to\n",
            "[nltk_data]     /root/nltk_data...\n",
            "[nltk_data]   Unzipping taggers/averaged_perceptron_tagger.zip.\n",
            "[nltk_data] Downloading package omw-1.4 to /root/nltk_data...\n"
          ]
        },
        {
          "data": {
            "text/plain": [
              "True"
            ]
          },
          "execution_count": 13,
          "metadata": {},
          "output_type": "execute_result"
        }
      ],
      "source": [
        "nltk.download(\"wordnet\")\n",
        "nltk.download('punkt')\n",
        "nltk.download('averaged_perceptron_tagger')\n",
        "nltk.download('omw-1.4')"
      ]
    },
    {
      "cell_type": "code",
      "execution_count": null,
      "metadata": {
        "id": "2o0_xnO9aUJD"
      },
      "outputs": [],
      "source": [
        "vectorizer = CountVectorizer()"
      ]
    },
    {
      "cell_type": "code",
      "execution_count": null,
      "metadata": {
        "id": "Wy5Dm0LnaXMo"
      },
      "outputs": [],
      "source": [
        "Xtrain = vectorizer.fit_transform(inputs_train)\n",
        "Xtest = vectorizer.transform(inputs_test)"
      ]
    },
    {
      "cell_type": "code",
      "execution_count": null,
      "metadata": {
        "colab": {
          "base_uri": "https://localhost:8080/"
        },
        "id": "zxw2amffaY6U",
        "outputId": "13377cba-e81a-4cbc-a23b-794b2a263e61"
      },
      "outputs": [
        {
          "data": {
            "text/plain": [
              "<721x7465 sparse matrix of type '<class 'numpy.int64'>'\n",
              "\twith 140450 stored elements in Compressed Sparse Row format>"
            ]
          },
          "execution_count": 16,
          "metadata": {},
          "output_type": "execute_result"
        }
      ],
      "source": [
        "Xtrain"
      ]
    },
    {
      "cell_type": "code",
      "execution_count": null,
      "metadata": {
        "colab": {
          "base_uri": "https://localhost:8080/"
        },
        "id": "JxJYgBkhaaur",
        "outputId": "5db46b3a-25bb-431a-f1c1-7ac08e168b67"
      },
      "outputs": [
        {
          "data": {
            "text/plain": [
              "0.0260949618794318"
            ]
          },
          "execution_count": 17,
          "metadata": {},
          "output_type": "execute_result"
        }
      ],
      "source": [
        "(Xtrain != 0).sum()/np.prod(Xtrain.shape)"
      ]
    },
    {
      "cell_type": "code",
      "execution_count": null,
      "metadata": {
        "colab": {
          "base_uri": "https://localhost:8080/"
        },
        "id": "gERt649jac-E",
        "outputId": "5779db1f-e4cb-4c74-eac1-602e4a41672f"
      },
      "outputs": [
        {
          "name": "stdout",
          "output_type": "stream",
          "text": [
            "Train score: 0.9986130374479889\n",
            "Test score: 0.966804979253112\n"
          ]
        }
      ],
      "source": [
        "model = MultinomialNB()\n",
        "model.fit(Xtrain,Ytrain)\n",
        "print(\"Train score:\",model.score(Xtrain,Ytrain))\n",
        "print(\"Test score:\",model.score(Xtest,Ytest))"
      ]
    },
    {
      "cell_type": "code",
      "execution_count": null,
      "metadata": {
        "colab": {
          "base_uri": "https://localhost:8080/"
        },
        "id": "8lVuSN-hagL0",
        "outputId": "891b9a92-64df-476f-cc0a-d2b3e30440f1"
      },
      "outputs": [
        {
          "name": "stdout",
          "output_type": "stream",
          "text": [
            "train score: 0.9986130374479889\n",
            "test score: 0.966804979253112\n"
          ]
        }
      ],
      "source": [
        "# with stopwords\n",
        "vectorizer1 = CountVectorizer(stop_words='english')\n",
        "Xtrain1 = vectorizer1.fit_transform(inputs_train)\n",
        "Xtest1 = vectorizer1.transform(inputs_test)\n",
        "model = MultinomialNB()\n",
        "model.fit(Xtrain1, Ytrain)\n",
        "print(\"train score:\", model.score(Xtrain1, Ytrain))\n",
        "print(\"test score:\", model.score(Xtest1, Ytest))"
      ]
    },
    {
      "cell_type": "code",
      "execution_count": null,
      "metadata": {
        "id": "DFOpkjHcaiw7"
      },
      "outputs": [],
      "source": [
        "class StemTokenizer:\n",
        "  def __init__(self):\n",
        "    self.porter = PorterStemmer()\n",
        "  def __call__(self, doc):\n",
        "    tokens = word_tokenize(doc)\n",
        "    return [self.porter.stem(t) for t in tokens]"
      ]
    },
    {
      "cell_type": "code",
      "execution_count": null,
      "metadata": {
        "colab": {
          "base_uri": "https://localhost:8080/"
        },
        "id": "7235K83lal7c",
        "outputId": "30fce7de-8fa4-41a6-ba1a-f7fe591c0668"
      },
      "outputs": [
        {
          "name": "stderr",
          "output_type": "stream",
          "text": [
            "/usr/local/lib/python3.10/dist-packages/sklearn/feature_extraction/text.py:528: UserWarning: The parameter 'token_pattern' will not be used since 'tokenizer' is not None'\n",
            "  warnings.warn(\n"
          ]
        },
        {
          "name": "stdout",
          "output_type": "stream",
          "text": [
            "train score: 0.9986130374479889\n",
            "test score: 0.966804979253112\n"
          ]
        }
      ],
      "source": [
        "vectorizer2 = CountVectorizer(tokenizer=StemTokenizer())\n",
        "Xtrain2 = vectorizer2.fit_transform(inputs_train)\n",
        "Xtest2 = vectorizer2.transform(inputs_test)\n",
        "model = MultinomialNB()\n",
        "model.fit(Xtrain2, Ytrain)\n",
        "print(\"train score:\", model.score(Xtrain2, Ytrain))\n",
        "print(\"test score:\", model.score(Xtest2, Ytest))"
      ]
    },
    {
      "cell_type": "code",
      "execution_count": null,
      "metadata": {
        "id": "7tCFc-AIaoYM"
      },
      "outputs": [],
      "source": [
        "def simple_tokenizer(s):\n",
        "  return s.split()"
      ]
    },
    {
      "cell_type": "code",
      "execution_count": null,
      "metadata": {
        "colab": {
          "base_uri": "https://localhost:8080/"
        },
        "id": "oO4S_DihatQT",
        "outputId": "a979ce07-7447-46e5-8fda-9e0869428b3b"
      },
      "outputs": [
        {
          "name": "stderr",
          "output_type": "stream",
          "text": [
            "/usr/local/lib/python3.10/dist-packages/sklearn/feature_extraction/text.py:528: UserWarning: The parameter 'token_pattern' will not be used since 'tokenizer' is not None'\n",
            "  warnings.warn(\n"
          ]
        },
        {
          "name": "stdout",
          "output_type": "stream",
          "text": [
            "train score: 0.9944521497919556\n",
            "test score: 0.9626556016597511\n"
          ]
        }
      ],
      "source": [
        "vectorizer3 = CountVectorizer(tokenizer=simple_tokenizer)\n",
        "Xtrain3 = vectorizer3.fit_transform(inputs_train)\n",
        "Xtest3 = vectorizer3.transform(inputs_test)\n",
        "model = MultinomialNB()\n",
        "model.fit(Xtrain3, Ytrain)\n",
        "print(\"train score:\", model.score(Xtrain3, Ytrain))\n",
        "print(\"test score:\", model.score(Xtest3, Ytest))"
      ]
    },
    {
      "cell_type": "code",
      "execution_count": null,
      "metadata": {
        "id": "A1fuWEkUavdU"
      },
      "outputs": [],
      "source": [
        "from sklearn.ensemble import RandomForestClassifier as RFC"
      ]
    },
    {
      "cell_type": "code",
      "execution_count": null,
      "metadata": {
        "colab": {
          "base_uri": "https://localhost:8080/"
        },
        "id": "oS_XXpcOazE7",
        "outputId": "0e6e450c-fbb1-4801-d1e5-856d65a8df0f"
      },
      "outputs": [
        {
          "name": "stdout",
          "output_type": "stream",
          "text": [
            "train score: 0.9972260748959778\n",
            "test score: 0.970954356846473\n"
          ]
        }
      ],
      "source": [
        "vectorizer4 = CountVectorizer()\n",
        "Xtrain4 = vectorizer4.fit_transform(inputs_train)\n",
        "Xtest4 = vectorizer4.transform(inputs_test)\n",
        "model = RFC(max_depth = 15)\n",
        "model.fit(Xtrain4, Ytrain)\n",
        "print(\"train score:\", model.score(Xtrain4, Ytrain))\n",
        "print(\"test score:\", model.score(Xtest4, Ytest))"
      ]
    },
    {
      "cell_type": "code",
      "execution_count": null,
      "metadata": {
        "colab": {
          "base_uri": "https://localhost:8080/"
        },
        "id": "o7fRmF77a1hk",
        "outputId": "5abb8b61-3193-4a29-c64e-4d1e6cc0a3c4"
      },
      "outputs": [
        {
          "name": "stderr",
          "output_type": "stream",
          "text": [
            "/usr/local/lib/python3.10/dist-packages/sklearn/feature_extraction/text.py:528: UserWarning: The parameter 'token_pattern' will not be used since 'tokenizer' is not None'\n",
            "  warnings.warn(\n"
          ]
        },
        {
          "name": "stdout",
          "output_type": "stream",
          "text": [
            "train score: 1.0\n",
            "test score: 0.983402489626556\n"
          ]
        }
      ],
      "source": [
        "#with Stemming\n",
        "vectorizer5 = CountVectorizer(tokenizer=StemTokenizer())\n",
        "Xtrain5 = vectorizer5.fit_transform(inputs_train)\n",
        "Xtest5 = vectorizer5.transform(inputs_test)\n",
        "model = RFC(max_depth=100)\n",
        "model.fit(Xtrain5, Ytrain)\n",
        "print(\"train score:\", model.score(Xtrain5, Ytrain))\n",
        "print(\"test score:\", model.score(Xtest5, Ytest))\n",
        "#cannot use this model due to overfitting"
      ]
    },
    {
      "cell_type": "code",
      "execution_count": null,
      "metadata": {
        "colab": {
          "base_uri": "https://localhost:8080/"
        },
        "id": "VRRHhWX1a330",
        "outputId": "a0677275-31c6-4a01-ad58-f261dbfb0412"
      },
      "outputs": [
        {
          "name": "stdout",
          "output_type": "stream",
          "text": [
            "train score: 0.9986130374479889\n",
            "test score: 0.966804979253112\n"
          ]
        }
      ],
      "source": [
        "#final model\n",
        "vectorizer4 = CountVectorizer(stop_words='english')\n",
        "Xtrain4 = vectorizer4.fit_transform(inputs_train)\n",
        "Xtest4 = vectorizer4.transform(inputs_test)\n",
        "final_model = RFC(max_depth = 15)\n",
        "final_model.fit(Xtrain4, Ytrain)\n",
        "print(\"train score:\", final_model.score(Xtrain4, Ytrain))\n",
        "print(\"test score:\",final_model.score(Xtest4, Ytest))"
      ]
    },
    {
      "cell_type": "code",
      "execution_count": null,
      "metadata": {
        "colab": {
          "base_uri": "https://localhost:8080/"
        },
        "id": "L3MP-jvCa88z",
        "outputId": "6c4c357c-77a7-43dd-d6fa-447e89ba3a55"
      },
      "outputs": [
        {
          "data": {
            "text/plain": [
              "Java Developer               84\n",
              "Testing                      70\n",
              "DevOps Engineer              55\n",
              "Python Developer             48\n",
              "Web Designing                45\n",
              "HR                           44\n",
              "Hadoop                       42\n",
              "Blockchain                   40\n",
              "ETL Developer                40\n",
              "Operations Manager           40\n",
              "Data Science                 40\n",
              "Sales                        40\n",
              "Mechanical Engineer          40\n",
              "Arts                         36\n",
              "Database                     33\n",
              "Electrical Engineering       30\n",
              "Health and fitness           30\n",
              "PMO                          30\n",
              "Business Analyst             28\n",
              "DotNet Developer             28\n",
              "Automation Testing           26\n",
              "Network Security Engineer    25\n",
              "SAP Developer                24\n",
              "Civil Engineer               24\n",
              "Advocate                     20\n",
              "Name: Category, dtype: int64"
            ]
          },
          "execution_count": 28,
          "metadata": {},
          "output_type": "execute_result"
        }
      ],
      "source": [
        "labels.value_counts()"
      ]
    },
    {
      "cell_type": "code",
      "execution_count": null,
      "metadata": {
        "id": "qbJJXH7qa_YD"
      },
      "outputs": [],
      "source": [
        "def new_inputs(resumes):\n",
        "    cleaned_resumes = resumes.apply(lambda x:clean_function(x))\n",
        "    transformed_resumes = vectorizer4.transform(cleaned_resumes)\n",
        "    return transformed_resumes"
      ]
    },
    {
      "cell_type": "code",
      "execution_count": null,
      "metadata": {
        "colab": {
          "base_uri": "https://localhost:8080/"
        },
        "id": "cU9tIbUnbcV8",
        "outputId": "bc7c312a-adf9-4dff-f0c0-698728d656df"
      },
      "outputs": [
        {
          "data": {
            "text/plain": [
              "array(['Hadoop'], dtype=object)"
            ]
          },
          "execution_count": 34,
          "metadata": {},
          "output_type": "execute_result"
        }
      ],
      "source": [
        "#Here I have used the skills from my own resume in order to test the model.\n",
        "x =  \"Python, C , SQL,Hadoop, Spark, clustering, neural networks, \"\n",
        "new_df = pd.Series(x)\n",
        "pred = final_model.predict(new_inputs(new_df))\n",
        "pred"
      ]
    },
    {
      "cell_type": "code",
      "execution_count": null,
      "metadata": {
        "colab": {
          "base_uri": "https://localhost:8080/"
        },
        "id": "P_ynBn55be1R",
        "outputId": "726e82dd-f714-4108-ea3b-e2c77da3baac"
      },
      "outputs": [
        {
          "name": "stdout",
          "output_type": "stream",
          "text": [
            "Requirement already satisfied: joblib in /usr/local/lib/python3.10/dist-packages (1.3.2)\n"
          ]
        }
      ],
      "source": [
        "!pip install joblib\n"
      ]
    },
    {
      "cell_type": "code",
      "execution_count": null,
      "metadata": {
        "colab": {
          "base_uri": "https://localhost:8080/"
        },
        "id": "UbT4SSnfbh8r",
        "outputId": "ac204fe3-ca79-4594-983d-ea4d97d0af8b"
      },
      "outputs": [
        {
          "data": {
            "text/plain": [
              "['final_model_RFC.pkl']"
            ]
          },
          "execution_count": 37,
          "metadata": {},
          "output_type": "execute_result"
        }
      ],
      "source": [
        "import joblib\n",
        "\n",
        "# Save the model to a file\n",
        "joblib.dump(final_model, 'final_model_RFC.pkl')\n"
      ]
    },
    {
      "cell_type": "code",
      "execution_count": null,
      "metadata": {
        "id": "qhLPzSp5fnnD"
      },
      "outputs": [],
      "source": [
        "# Load the model from the file\n",
        "loaded_model = joblib.load('final_model_RFC.pkl')\n",
        "\n",
        "# Now, you can use this loaded_model for predictions or further analysis\n"
      ]
    },
    {
      "cell_type": "code",
      "execution_count": null,
      "metadata": {
        "colab": {
          "base_uri": "https://localhost:8080/",
          "height": 36
        },
        "id": "piYkIdwtf5Cb",
        "outputId": "dd60b44b-ee91-4e72-c638-b342accdc46f"
      },
      "outputs": [
        {
          "data": {
            "application/vnd.google.colaboratory.intrinsic+json": {
              "type": "string"
            },
            "text/plain": [
              "'Hadoop'"
            ]
          },
          "execution_count": 43,
          "metadata": {},
          "output_type": "execute_result"
        }
      ],
      "source": [
        "#Here I have used the skills from my own resume in order to test the model.\n",
        "x =  \"Python, C , SQL,Hadoop, Spark, clustering, neural networks, \"\n",
        "new_df = pd.Series(x)\n",
        "pred = loaded_model.predict(new_inputs(new_df))\n",
        "pred[0]"
      ]
    },
    {
      "cell_type": "code",
      "execution_count": null,
      "metadata": {
        "colab": {
          "base_uri": "https://localhost:8080/"
        },
        "id": "VkTRL-1Tob3X",
        "outputId": "4bc80de7-86d9-4d3c-fb7d-ad6024c5e5e1"
      },
      "outputs": [
        {
          "name": "stdout",
          "output_type": "stream",
          "text": [
            "Collecting pdfplumber\n",
            "  Downloading pdfplumber-0.10.3-py3-none-any.whl (48 kB)\n",
            "\u001b[2K     \u001b[90m━━━━━━━━━━━━━━━━━━━━━━━━━━━━━━━━━━━━━━━━\u001b[0m \u001b[32m49.0/49.0 kB\u001b[0m \u001b[31m884.1 kB/s\u001b[0m eta \u001b[36m0:00:00\u001b[0m\n",
            "\u001b[?25hCollecting pdfminer.six==20221105 (from pdfplumber)\n",
            "  Downloading pdfminer.six-20221105-py3-none-any.whl (5.6 MB)\n",
            "\u001b[2K     \u001b[90m━━━━━━━━━━━━━━━━━━━━━━━━━━━━━━━━━━━━━━━━\u001b[0m \u001b[32m5.6/5.6 MB\u001b[0m \u001b[31m22.2 MB/s\u001b[0m eta \u001b[36m0:00:00\u001b[0m\n",
            "\u001b[?25hRequirement already satisfied: Pillow>=9.1 in /usr/local/lib/python3.10/dist-packages (from pdfplumber) (9.4.0)\n",
            "Collecting pypdfium2>=4.18.0 (from pdfplumber)\n",
            "  Downloading pypdfium2-4.25.0-py3-none-manylinux_2_17_x86_64.whl (3.0 MB)\n",
            "\u001b[2K     \u001b[90m━━━━━━━━━━━━━━━━━━━━━━━━━━━━━━━━━━━━━━━━\u001b[0m \u001b[32m3.0/3.0 MB\u001b[0m \u001b[31m96.6 MB/s\u001b[0m eta \u001b[36m0:00:00\u001b[0m\n",
            "\u001b[?25hRequirement already satisfied: charset-normalizer>=2.0.0 in /usr/local/lib/python3.10/dist-packages (from pdfminer.six==20221105->pdfplumber) (3.3.2)\n",
            "Requirement already satisfied: cryptography>=36.0.0 in /usr/local/lib/python3.10/dist-packages (from pdfminer.six==20221105->pdfplumber) (41.0.7)\n",
            "Requirement already satisfied: cffi>=1.12 in /usr/local/lib/python3.10/dist-packages (from cryptography>=36.0.0->pdfminer.six==20221105->pdfplumber) (1.16.0)\n",
            "Requirement already satisfied: pycparser in /usr/local/lib/python3.10/dist-packages (from cffi>=1.12->cryptography>=36.0.0->pdfminer.six==20221105->pdfplumber) (2.21)\n",
            "Installing collected packages: pypdfium2, pdfminer.six, pdfplumber\n",
            "Successfully installed pdfminer.six-20221105 pdfplumber-0.10.3 pypdfium2-4.25.0\n"
          ]
        }
      ],
      "source": [
        "!pip install pdfplumber"
      ]
    },
    {
      "cell_type": "code",
      "execution_count": null,
      "metadata": {
        "colab": {
          "base_uri": "https://localhost:8080/"
        },
        "id": "yKph0xzMp5Qv",
        "outputId": "cc39c710-e924-4fb8-f213-97a2170f61d2"
      },
      "outputs": [
        {
          "name": "stdout",
          "output_type": "stream",
          "text": [
            "Collecting PyPDF2\n",
            "  Downloading pypdf2-3.0.1-py3-none-any.whl (232 kB)\n",
            "\u001b[2K     \u001b[90m━━━━━━━━━━━━━━━━━━━━━━━━━━━━━━━━━━━━━━━━\u001b[0m \u001b[32m232.6/232.6 kB\u001b[0m \u001b[31m2.0 MB/s\u001b[0m eta \u001b[36m0:00:00\u001b[0m\n",
            "\u001b[?25hInstalling collected packages: PyPDF2\n",
            "Successfully installed PyPDF2-3.0.1\n"
          ]
        }
      ],
      "source": [
        "!pip install PyPDF2"
      ]
    },
    {
      "cell_type": "markdown",
      "metadata": {
        "id": "PhXn3MdvutU9"
      },
      "source": [
        "for single"
      ]
    },
    {
      "cell_type": "code",
      "execution_count": null,
      "metadata": {
        "colab": {
          "base_uri": "https://localhost:8080/",
          "height": 36
        },
        "id": "ZMjFa8U9pooH",
        "outputId": "585d0ef7-4dc3-46e7-85df-aaa9956eb411"
      },
      "outputs": [
        {
          "data": {
            "application/vnd.google.colaboratory.intrinsic+json": {
              "type": "string"
            },
            "text/plain": [
              "'Python Developer'"
            ]
          },
          "execution_count": 54,
          "metadata": {},
          "output_type": "execute_result"
        }
      ],
      "source": [
        "import PyPDF2\n",
        "import re\n",
        "from nltk.tokenize import word_tokenize\n",
        "\n",
        "def extract_text_from_pdf(file_path):\n",
        "    with open(file_path, 'rb') as file:\n",
        "        reader = PyPDF2.PdfReader(file)\n",
        "        text = ''.join(page.extract_text() for page in reader.pages)\n",
        "    return text\n",
        "\n",
        "def extract_skills(text):\n",
        "    tokens = word_tokenize(text.lower())\n",
        "    return [re.sub(r'\\W+', '', string) for string in tokens]\n",
        "\n",
        " \n",
        "resume_path = '/content/Siddhesh Mhatre.pdf'\n",
        "\n",
        " \n",
        "resume_text = extract_text_from_pdf(resume_path)\n",
        "\n",
        " \n",
        "candidate_skills = extract_skills(resume_text)\n",
        "cleaned_list = [re.sub(r'\\W+', '', string) for string in candidate_skills]\n",
        "\n",
        "result = ', '.join([string for string in cleaned_list if string.strip()])\n",
        "new_df = pd.Series(result)\n",
        "pred = loaded_model.predict(new_inputs(new_df))\n",
        "pred[0]  \n"
      ]
    },
    {
      "cell_type": "markdown",
      "metadata": {
        "id": "mRIbl5UiuwZ7"
      },
      "source": [
        "For multiple"
      ]
    },
    {
      "cell_type": "code",
      "execution_count": null,
      "metadata": {
        "colab": {
          "base_uri": "https://localhost:8080/"
        },
        "id": "H749Iipruv79",
        "outputId": "2cc3dbef-3c61-49b8-daef-a30d697b8024"
      },
      "outputs": [
        {
          "name": "stdout",
          "output_type": "stream",
          "text": [
            "File: 13405733.pdf, Predicted Category: Sales\n",
            "File: 90867631.pdf, Predicted Category: Database\n",
            "File: 21780877.pdf, Predicted Category: Network Security Engineer\n",
            "File: 18752129.pdf, Predicted Category: Mechanical Engineer\n",
            "File: 13836471.pdf, Predicted Category: Network Security Engineer\n",
            "File: 23666211.pdf, Predicted Category: PMO\n",
            "File: 36856210.pdf, Predicted Category: Network Security Engineer\n",
            "File: 20408458.pdf, Predicted Category: Network Security Engineer\n",
            "File: 24230851.pdf, Predicted Category: Java Developer\n",
            "File: 17641670.pdf, Predicted Category: Network Security Engineer\n",
            "File: 10840430.pdf, Predicted Category: Network Security Engineer\n",
            "File: 24083609.pdf, Predicted Category: HR\n",
            "File: 52618188.pdf, Predicted Category: SAP Developer\n",
            "File: 25857360.pdf, Predicted Category: Advocate\n",
            "File: 22776912.pdf, Predicted Category: Network Security Engineer\n",
            "File: 51639418.pdf, Predicted Category: Java Developer\n",
            "File: 18187364.pdf, Predicted Category: Database\n",
            "File: 91635250.pdf, Predicted Category: Network Security Engineer\n",
            "File: 28672970.pdf, Predicted Category: HR\n",
            "File: 31111279.pdf, Predicted Category: Business Analyst\n",
            "File: 12763627.pdf, Predicted Category: DotNet Developer\n",
            "File: 32959732.pdf, Predicted Category: Network Security Engineer\n",
            "File: 26801767.pdf, Predicted Category: Network Security Engineer\n",
            "File: 24038620.pdf, Predicted Category: Operations Manager\n",
            "File: 39413067.pdf, Predicted Category: Database\n",
            "File: 29075857.pdf, Predicted Category: ETL Developer\n",
            "File: 38753827.pdf, Predicted Category: Network Security Engineer\n",
            "File: 10247517.pdf, Predicted Category: Network Security Engineer\n",
            "File: 40018190.pdf, Predicted Category: HR\n",
            "File: 10089434.pdf, Predicted Category: Network Security Engineer\n",
            "File: 26768723.pdf, Predicted Category: Network Security Engineer\n",
            "File: 17688766.pdf, Predicted Category: Network Security Engineer\n",
            "File: 18301617.pdf, Predicted Category: Network Security Engineer\n",
            "File: 17111768.pdf, Predicted Category: PMO\n",
            "File: 29975124.pdf, Predicted Category: DevOps Engineer\n",
            "File: 64017585.pdf, Predicted Category: Arts\n",
            "File: 51363762.pdf, Predicted Category: Network Security Engineer\n",
            "File: 24020470.pdf, Predicted Category: Network Security Engineer\n",
            "File: 10839851.pdf, Predicted Category: Network Security Engineer\n",
            "File: 29051656.pdf, Predicted Category: Database\n",
            "File: 16186411.pdf, Predicted Category: DevOps Engineer\n",
            "File: 13477922.pdf, Predicted Category: Network Security Engineer\n",
            "File: 35325329.pdf, Predicted Category: PMO\n",
            "File: 89413122.pdf, Predicted Category: Java Developer\n",
            "File: 16533554.pdf, Predicted Category: Network Security Engineer\n",
            "File: 21283365.pdf, Predicted Category: Network Security Engineer\n",
            "File: 18067556.pdf, Predicted Category: PMO\n",
            "File: 20674668.pdf, Predicted Category: Web Designing\n",
            "File: 11957080.pdf, Predicted Category: Database\n",
            "File: 13385306.pdf, Predicted Category: DotNet Developer\n",
            "File: 66832845.pdf, Predicted Category: Network Security Engineer\n",
            "File: 19201175.pdf, Predicted Category: Business Analyst\n",
            "File: 28126340.pdf, Predicted Category: PMO\n",
            "File: 25905275.pdf, Predicted Category: Operations Manager\n",
            "File: 15802627.pdf, Predicted Category: Network Security Engineer\n",
            "File: 39718499.pdf, Predicted Category: HR\n",
            "File: 27770859.pdf, Predicted Category: Network Security Engineer\n",
            "File: 27372171.pdf, Predicted Category: Network Security Engineer\n",
            "File: 27058381.pdf, Predicted Category: Network Security Engineer\n",
            "File: 52246737.pdf, Predicted Category: Arts\n",
            "File: 11584809.pdf, Predicted Category: Network Security Engineer\n",
            "File: 33381211.pdf, Predicted Category: Business Analyst\n",
            "File: 37242217.pdf, Predicted Category: Web Designing\n",
            "File: 81761658.pdf, Predicted Category: Network Security Engineer\n",
            "File: 23527321.pdf, Predicted Category: PMO\n",
            "File: 15791766.pdf, Predicted Category: Network Security Engineer\n",
            "File: 30223363.pdf, Predicted Category: PMO\n",
            "File: 15297298.pdf, Predicted Category: Database\n",
            "File: 11580408.pdf, Predicted Category: Network Security Engineer\n",
            "File: 83816738.pdf, Predicted Category: Java Developer\n",
            "File: 36434348.pdf, Predicted Category: Arts\n",
            "File: 18176523.pdf, Predicted Category: Network Security Engineer\n",
            "File: 12635195.pdf, Predicted Category: Network Security Engineer\n",
            "File: 20001721.pdf, Predicted Category: Java Developer\n",
            "File: 91697974.pdf, Predicted Category: PMO\n",
            "File: 26746496.pdf, Predicted Category: DotNet Developer\n",
            "File: 19850482.pdf, Predicted Category: Network Security Engineer\n",
            "File: 24889109.pdf, Predicted Category: Network Security Engineer\n",
            "File: 33241454.pdf, Predicted Category: Network Security Engineer\n",
            "File: 27295996.pdf, Predicted Category: Network Security Engineer\n",
            "File: 92069209.pdf, Predicted Category: Network Security Engineer\n",
            "File: 28035460.pdf, Predicted Category: Network Security Engineer\n",
            "File: 28897981.pdf, Predicted Category: Java Developer\n",
            "File: 19796840.pdf, Predicted Category: PMO\n",
            "File: 37764298.pdf, Predicted Category: Network Security Engineer\n",
            "File: 79541391.pdf, Predicted Category: Network Security Engineer\n",
            "File: 10553553.pdf, Predicted Category: Database\n",
            "File: 10265057.pdf, Predicted Category: Testing\n",
            "File: 15118506.pdf, Predicted Category: Blockchain\n",
            "File: 27536013.pdf, Predicted Category: SAP Developer\n",
            "File: 25207620.pdf, Predicted Category: Network Security Engineer\n",
            "File: 28697203.pdf, Predicted Category: Arts\n",
            "File: 26480367.pdf, Predicted Category: Network Security Engineer\n",
            "File: 23864648.pdf, Predicted Category: Network Security Engineer\n",
            "File: 20024870.pdf, Predicted Category: HR\n",
            "File: 25990239.pdf, Predicted Category: Data Science\n",
            "File: 16899268.pdf, Predicted Category: Python Developer\n",
            "File: 41344156.pdf, Predicted Category: Database\n",
            "File: 22450718.pdf, Predicted Category: Java Developer\n",
            "File: 15651486.pdf, Predicted Category: Network Security Engineer\n",
            "File: 20237244.pdf, Predicted Category: Network Security Engineer\n",
            "File: 31243710.pdf, Predicted Category: Network Security Engineer\n",
            "File: 20824105.pdf, Predicted Category: Network Security Engineer\n",
            "File: 25959103.pdf, Predicted Category: Network Security Engineer\n",
            "File: 17681064.pdf, Predicted Category: PMO\n",
            "File: 70089206.pdf, Predicted Category: Sales\n",
            "File: 17987433.pdf, Predicted Category: Testing\n",
            "File: 57002858.pdf, Predicted Category: Network Security Engineer\n",
            "File: 12334140.pdf, Predicted Category: Sales\n",
            "File: 18159866.pdf, Predicted Category: PMO\n",
            "File: 48037995.pdf, Predicted Category: Testing\n",
            "File: 68460556.pdf, Predicted Category: Java Developer\n",
            "File: 24913648.pdf, Predicted Category: Network Security Engineer\n",
            "File: 27485716.pdf, Predicted Category: PMO\n",
            "File: 91121135.pdf, Predicted Category: SAP Developer\n",
            "File: 20879311.pdf, Predicted Category: Network Security Engineer\n",
            "File: 12045067.pdf, Predicted Category: Network Security Engineer\n",
            "File: 10641230.pdf, Predicted Category: Java Developer\n",
            "File: 14789139.pdf, Predicted Category: PMO\n",
            "File: 46260230.pdf, Predicted Category: Network Security Engineer\n"
          ]
        }
      ],
      "source": [
        "import os\n",
        "import PyPDF2\n",
        "import re\n",
        "from nltk.tokenize import word_tokenize\n",
        "import pandas as pd\n",
        "\n",
        "# Function to extract text from a PDF file\n",
        "def extract_text_from_pdf(file_path):\n",
        "    with open(file_path, 'rb') as file:\n",
        "        reader = PyPDF2.PdfReader(file)\n",
        "        text = ''.join(page.extract_text() for page in reader.pages)\n",
        "    return text\n",
        "\n",
        "# Function to extract skills from text\n",
        "def extract_skills(text):\n",
        "    tokens = word_tokenize(text.lower())\n",
        "    return [re.sub(r'\\W+', '', string) for string in tokens]\n",
        "\n",
        "# Directory containing resumes\n",
        "resumes_directory = '/content/drive/MyDrive/New Resume/ALL resumes/INFORMATION-TECHNOLOGY'\n",
        "\n",
        "# Load the saved RFC model\n",
        "loaded_model = joblib.load('final_model_RFC.pkl')  # Replace with your model path\n",
        "\n",
        "# Predict category for each resume\n",
        "for root, dirs, files in os.walk(resumes_directory):\n",
        "    for file_name in files:\n",
        "        if file_name.endswith('.pdf'):\n",
        "            resume_path = os.path.join(root, file_name)\n",
        "\n",
        "            # Extract text from the PDF resume\n",
        "            resume_text = extract_text_from_pdf(resume_path)\n",
        "\n",
        "            # Extract skills from the resume text\n",
        "            candidate_skills = extract_skills(resume_text)\n",
        "            cleaned_list = [re.sub(r'\\W+', '', string) for string in candidate_skills]\n",
        "\n",
        "            result = ', '.join([string for string in cleaned_list if string.strip()])\n",
        "            new_df = pd.Series(result)\n",
        "            pred = loaded_model.predict(new_inputs(new_df))\n",
        "            print(f\"File: {file_name}, Predicted Category: {pred[0]}\")\n"
      ]
    },
    {
      "cell_type": "code",
      "execution_count": null,
      "metadata": {
        "colab": {
          "base_uri": "https://localhost:8080/"
        },
        "id": "i7ljpRffxwkE",
        "outputId": "f2a153a0-b186-46f8-f2bb-80499fbcc7dc"
      },
      "outputs": [
        {
          "name": "stdout",
          "output_type": "stream",
          "text": [
            "Moved 13405733.pdf to Sales folder\n",
            "Moved 90867631.pdf to Database folder\n",
            "Moved 21780877.pdf to Network Security Engineer folder\n",
            "Moved 18752129.pdf to Mechanical Engineer folder\n",
            "Moved 13836471.pdf to Network Security Engineer folder\n",
            "Moved 23666211.pdf to PMO folder\n",
            "Moved 36856210.pdf to Network Security Engineer folder\n",
            "Moved 20408458.pdf to Network Security Engineer folder\n",
            "Moved 24230851.pdf to Java Developer folder\n",
            "Moved 17641670.pdf to Network Security Engineer folder\n",
            "Moved 10840430.pdf to Network Security Engineer folder\n",
            "Moved 24083609.pdf to HR folder\n",
            "Moved 52618188.pdf to SAP Developer folder\n",
            "Moved 25857360.pdf to Advocate folder\n",
            "Moved 22776912.pdf to Network Security Engineer folder\n",
            "Moved 51639418.pdf to Java Developer folder\n",
            "Moved 18187364.pdf to Database folder\n",
            "Moved 91635250.pdf to Network Security Engineer folder\n",
            "Moved 28672970.pdf to HR folder\n",
            "Moved 31111279.pdf to Business Analyst folder\n",
            "Moved 12763627.pdf to DotNet Developer folder\n",
            "Moved 32959732.pdf to Network Security Engineer folder\n",
            "Moved 26801767.pdf to Network Security Engineer folder\n",
            "Moved 24038620.pdf to Operations Manager folder\n",
            "Moved 39413067.pdf to Database folder\n",
            "Moved 29075857.pdf to ETL Developer folder\n",
            "Moved 38753827.pdf to Network Security Engineer folder\n",
            "Moved 10247517.pdf to Network Security Engineer folder\n",
            "Moved 40018190.pdf to HR folder\n",
            "Moved 10089434.pdf to Network Security Engineer folder\n",
            "Moved 26768723.pdf to Network Security Engineer folder\n",
            "Moved 17688766.pdf to Network Security Engineer folder\n",
            "Moved 18301617.pdf to Network Security Engineer folder\n",
            "Moved 17111768.pdf to PMO folder\n",
            "Moved 29975124.pdf to DevOps Engineer folder\n",
            "Moved 64017585.pdf to Arts folder\n",
            "Moved 51363762.pdf to Network Security Engineer folder\n",
            "Moved 24020470.pdf to Network Security Engineer folder\n",
            "Moved 10839851.pdf to Network Security Engineer folder\n",
            "Moved 29051656.pdf to Database folder\n",
            "Moved 16186411.pdf to DevOps Engineer folder\n",
            "Moved 13477922.pdf to Network Security Engineer folder\n",
            "Moved 35325329.pdf to PMO folder\n",
            "Moved 89413122.pdf to Java Developer folder\n",
            "Moved 16533554.pdf to Network Security Engineer folder\n",
            "Moved 21283365.pdf to Network Security Engineer folder\n",
            "Moved 18067556.pdf to PMO folder\n",
            "Moved 20674668.pdf to Web Designing folder\n",
            "Moved 11957080.pdf to Database folder\n",
            "Moved 13385306.pdf to DotNet Developer folder\n",
            "Moved 66832845.pdf to Network Security Engineer folder\n",
            "Moved 19201175.pdf to Business Analyst folder\n",
            "Moved 28126340.pdf to PMO folder\n",
            "Moved 25905275.pdf to Operations Manager folder\n",
            "Moved 15802627.pdf to Network Security Engineer folder\n",
            "Moved 39718499.pdf to HR folder\n",
            "Moved 27770859.pdf to Network Security Engineer folder\n",
            "Moved 27372171.pdf to Network Security Engineer folder\n",
            "Moved 27058381.pdf to Network Security Engineer folder\n",
            "Moved 52246737.pdf to Arts folder\n",
            "Moved 11584809.pdf to Network Security Engineer folder\n",
            "Moved 33381211.pdf to Business Analyst folder\n",
            "Moved 37242217.pdf to Web Designing folder\n",
            "Moved 81761658.pdf to Network Security Engineer folder\n",
            "Moved 23527321.pdf to PMO folder\n",
            "Moved 15791766.pdf to Network Security Engineer folder\n",
            "Moved 30223363.pdf to PMO folder\n",
            "Moved 15297298.pdf to Database folder\n",
            "Moved 11580408.pdf to Network Security Engineer folder\n",
            "Moved 83816738.pdf to Java Developer folder\n",
            "Moved 36434348.pdf to Arts folder\n",
            "Moved 18176523.pdf to Network Security Engineer folder\n",
            "Moved 12635195.pdf to Network Security Engineer folder\n",
            "Moved 20001721.pdf to Java Developer folder\n",
            "Moved 91697974.pdf to PMO folder\n",
            "Moved 26746496.pdf to DotNet Developer folder\n",
            "Moved 19850482.pdf to Network Security Engineer folder\n",
            "Moved 24889109.pdf to Network Security Engineer folder\n",
            "Moved 33241454.pdf to Network Security Engineer folder\n",
            "Moved 27295996.pdf to Network Security Engineer folder\n",
            "Moved 92069209.pdf to Network Security Engineer folder\n",
            "Moved 28035460.pdf to Network Security Engineer folder\n",
            "Moved 28897981.pdf to Java Developer folder\n",
            "Moved 19796840.pdf to PMO folder\n",
            "Moved 37764298.pdf to Network Security Engineer folder\n",
            "Moved 79541391.pdf to Network Security Engineer folder\n",
            "Moved 10553553.pdf to Database folder\n",
            "Moved 10265057.pdf to Testing folder\n",
            "Moved 15118506.pdf to Blockchain folder\n",
            "Moved 27536013.pdf to SAP Developer folder\n",
            "Moved 25207620.pdf to Network Security Engineer folder\n",
            "Moved 28697203.pdf to Arts folder\n",
            "Moved 26480367.pdf to Network Security Engineer folder\n",
            "Moved 23864648.pdf to Network Security Engineer folder\n",
            "Moved 20024870.pdf to HR folder\n",
            "Moved 25990239.pdf to Data Science folder\n",
            "Moved 16899268.pdf to Python Developer folder\n",
            "Moved 41344156.pdf to Database folder\n",
            "Moved 22450718.pdf to Java Developer folder\n",
            "Moved 15651486.pdf to Network Security Engineer folder\n",
            "Moved 20237244.pdf to Network Security Engineer folder\n",
            "Moved 31243710.pdf to Network Security Engineer folder\n",
            "Moved 20824105.pdf to Network Security Engineer folder\n",
            "Moved 25959103.pdf to Network Security Engineer folder\n",
            "Moved 17681064.pdf to PMO folder\n",
            "Moved 70089206.pdf to Sales folder\n",
            "Moved 17987433.pdf to Testing folder\n",
            "Moved 57002858.pdf to Network Security Engineer folder\n",
            "Moved 12334140.pdf to Sales folder\n",
            "Moved 18159866.pdf to PMO folder\n",
            "Moved 48037995.pdf to Testing folder\n",
            "Moved 68460556.pdf to Java Developer folder\n",
            "Moved 24913648.pdf to Network Security Engineer folder\n",
            "Moved 27485716.pdf to PMO folder\n",
            "Moved 91121135.pdf to SAP Developer folder\n",
            "Moved 20879311.pdf to Network Security Engineer folder\n",
            "Moved 12045067.pdf to Network Security Engineer folder\n",
            "Moved 10641230.pdf to Java Developer folder\n",
            "Moved 14789139.pdf to PMO folder\n",
            "Moved 46260230.pdf to Network Security Engineer folder\n"
          ]
        }
      ],
      "source": [
        "import os\n",
        "import PyPDF2\n",
        "import re\n",
        "from nltk.tokenize import word_tokenize\n",
        "import pandas as pd\n",
        "import shutil\n",
        "\n",
        "# Function to extract text from a PDF file\n",
        "def extract_text_from_pdf(file_path):\n",
        "    with open(file_path, 'rb') as file:\n",
        "        reader = PyPDF2.PdfReader(file)\n",
        "        text = ''.join(page.extract_text() for page in reader.pages)\n",
        "    return text\n",
        "\n",
        "# Function to extract skills from text\n",
        "def extract_skills(text):\n",
        "    tokens = word_tokenize(text.lower())\n",
        "    return [re.sub(r'\\W+', '', string) for string in tokens]\n",
        "\n",
        "# Directory containing resumes\n",
        "resumes_directory = '/content/drive/MyDrive/New Resume/ALL resumes/INFORMATION-TECHNOLOGY'\n",
        "\n",
        "# Load the saved RFC model\n",
        "loaded_model = joblib.load('final_model_RFC.pkl')  # Replace with your model path\n",
        "\n",
        "# Predict category for each resume\n",
        "for root, dirs, files in os.walk(resumes_directory):\n",
        "    for file_name in files:\n",
        "        if file_name.endswith('.pdf'):\n",
        "            resume_path = os.path.join(root, file_name)\n",
        "\n",
        "            # Extract text from the PDF resume\n",
        "            resume_text = extract_text_from_pdf(resume_path)\n",
        "\n",
        "            # Extract skills from the resume text\n",
        "            candidate_skills = extract_skills(resume_text)\n",
        "            cleaned_list = [re.sub(r'\\W+', '', string) for string in candidate_skills]\n",
        "\n",
        "            result = ', '.join([string for string in cleaned_list if string.strip()])\n",
        "            new_df = pd.Series(result)\n",
        "            pred = loaded_model.predict(new_inputs(new_df))\n",
        "\n",
        "            predicted_category = pred[0]\n",
        "            category_folder = os.path.join(resumes_directory, predicted_category)\n",
        "\n",
        "            if not os.path.exists(category_folder):\n",
        "                os.makedirs(category_folder)\n",
        "\n",
        "            destination_path = os.path.join(category_folder, file_name)\n",
        "            shutil.move(resume_path, destination_path)\n",
        "            print(f\"Moved {file_name} to {predicted_category} folder\")\n"
      ]
    },
    {
      "cell_type": "code",
      "execution_count": null,
      "metadata": {
        "colab": {
          "base_uri": "https://localhost:8080/"
        },
        "id": "ckuh4dC_p-TG",
        "outputId": "58ff3352-dbd3-48e6-c6e7-eea755fa2113"
      },
      "outputs": [
        {
          "data": {
            "text/plain": [
              "list"
            ]
          },
          "execution_count": 48,
          "metadata": {},
          "output_type": "execute_result"
        }
      ],
      "source": [
        "type(candidate_skills)"
      ]
    },
    {
      "cell_type": "code",
      "execution_count": null,
      "metadata": {
        "colab": {
          "base_uri": "https://localhost:8080/",
          "height": 140
        },
        "id": "65Xj0PaDqQB5",
        "outputId": "d4e4fb2d-e7e0-45b6-8650-ac6849e7fdb9"
      },
      "outputs": [
        {
          "data": {
            "application/vnd.google.colaboratory.intrinsic+json": {
              "type": "string"
            },
            "text/plain": [
              "'information, technology, technician, i, summary, versatile, systems, administrator, possessing, superior, troubleshooting, skills, for, networking, issues, end, user, problems, and, network, security, experienced, in, server, management, systems, analysis, and, offering, indepth, understanding, of, it, infrastructure, areas, detailoriented, independent, and, focused, on, taking, a, systematic, approach, to, solving, complex, problems, demonstrated, exceptional, technical, knowledge, and, skills, while, working, with, various, teams, to, achieve, shared, goals, and, objectives, highlights, active, directory, group, policy, objects, powershell, and, vbscript, microsoft, exchange, vmware, experience, new, technology, and, product, research, office, 365, and, azure, storage, management, enterprise, backup, management, disaster, recovery, experience, information, technology, technician, i, aug, 2007, to, current, company, name, ï¼, city, state, migrating, and, managing, user, accounts, in, microsoft, office, 365, and, exchange, online, creating, and, managing, virtual, machines, for, systems, such, as, domain, controllers, and, active, directory, federation, services, adfs, in, microsoft, windows, azure, iaas, creating, and, managing, storage, in, microsoft, windows, azure, iaas, installing, and, configuring, storsimple, iscsi, cloud, array, staasbaas, installing, configuring, and, testing, twinstrata, iscsi, cloud, array, staasbaas, collaborating, on, project, plan, for, office, 365, migration, developing, detailed, specifications, for, the, office, 365, migration, including, businesscase, documentation, cost, benefit, analyses, technical, diagrams, and, work, flow, documentation, received, training, in, mvc, 4, for, visual, studio, using, net, framework, 445, to, develop, application, using, html5, and, css3, installing, configuring, and, supporting, linux, machines, for, the, open, wifi, network, project, compiling, and, generating, statistical, information, concerning, wireless, network, traffic, using, cacti, configuring, wireless, lan, router, networking, and, security, access, installing, and, configuring, wireless, certificates, developing, detailed, specifications, for, the, acquisition, of, an, enterprise, backup, system, including, systems, design, businesscase, documentation, cost, benefit, analysis, technical, diagrams, and, work, flow, documentation, reviewing, evaluating, and, analyzing, departmental, policies, guidelines, procedures, and, standards, with, management, and, staff, developing, test, scripts, for, acceptance, unit, and, system, testing, of, hyperion, phase, 1, and, miamibiz, phase, 2, developing, quality, assurance, and, testing, plan, for, hyperion, phase, 1, and, miamibiz, phase, 2, debugging, and, logging, of, errors, in, hyperion, and, miamibiz, using, team, foundation, server, tfs, participated, in, various, phases, of, the, project, life, cycle, such, as, determining, requirements, design, conceptualization, testing, implementation, deployment, and, release, for, the, hyperion, and, miamibiz, projects, collaborating, on, project, plans, for, hyperion, and, miamibiz, preparing, presentations, and, documentation, to, demonstrate, hyperion, and, miamibiz, functionality, or, design, monitoring, network, traffic, and, compiling, and, generating, statistical, information, using, solar, winds, collaborating, on, disaster, recovery, plan, and, procedures, researching, evaluating, and, recommending, new, hardware, and, new, software, communicating, and, defining, systems, design, and, requirements, for, new, and, existing, systems, and, applications, researching, evaluating, recommending, testing, and, implementing, third, party, softwareutilities, planning, and, designing, network, infrastructure, changes, â, addingremoving, servers, appliances, network, logical, flow, reviewing, evaluating, and, analyzing, existing, system, and, application, viability, with, management, and, staff, administering, and, maintaining, shares, on, the, file, servers, reviewing, server, logs, to, troubleshoot, issues, scheduling, and, applying, hot, fixes, and, security, patches, on, the, server, infrastructure, which, includes, the, operating, system, and, application, software, reviewing, systems, reporting, in, sccm, system, center, configuration, manager, resolving, service, requests, escalated, by, the, help, desk, or, other, technicians, troubleshooting, and, analyzing, and, system, problems, for, root, cause, analysis, giving, and, participating, in, training, and, education, programs, to, explain, upgrades, to, end, users, migrating, users, documents, from, local, computer, storage, to, shares, on, the, file, servers, configuring, supporting, and, maintaining, file, shares, using, distributed, file, system, dfs, managing, implementing, and, testing, enterprise, backup, infrastructure, systems, such, as, the, symantec, veritas, netbackup, symantec, backup, exec, system, recoverylivestate, and, vranger, backup, servers, managing, configuring, and, supporting, datadomain, storage, configuring, and, supporting, microsoft, windows, server, 2003, 2008, and, 2012, installing, configuring, and, supporting, microsoft, windows, 7, windows, 8, and, microsoft, office, 2007, 2010, and, 2013installing, configuring, and, supporting, mcafee, antivirus, software, on, servers, migrating, exchange, infrastructure, from, exchange, 2003, to, exchange, 2007, and, from, exchange, 2007, to, exchange, 2010, supporting, servers, in, the, virtualization, infrastructure, using, vmware, vsphere, installing, configuring, and, testing, veeam, virtual, machine, backup, software, and, virtual, desktop, infrastructure, vdi, reviewing, systems, reporting, in, system, center, configuration, manager, sccm, administering, and, maintaining, the, symantec, enterprise, vault, servers, managing, the, active, directory, domain, controllers, dcs, creating, and, maintaining, group, policy, objects, gpos, in, microsoft, active, directory, configuring, and, supporting, microsoft, exchange, active, sync, on, devices, with, apple, ios, and, android, mobile, operating, systems, configuring, and, supporting, blackberry, devices, on, the, blackberry, enterprise, server, to, receive, exchange, email, developing, testing, designing, and, implementing, application, scripts, using, languages, such, as, command, batch, files, visual, basic, script, and, powershell, creating, policies, and, procedural, documentation, information, services, liaison, t, aug, 2005, to, aug, 2007, company, name, ï¼, city, state, troubleshooting, hardware, and, software, problems, over, the, telephone, and, through, remote, pc, administration, software, installing, configuring, and, supporting, mcafee, antivirus, software, on, desktops, installing, configuring, and, supporting, bbars, computer, backup, software, developing, and, maintaining, websites, on, servers, running, microsoft, sharepoint, server, and, internet, information, services, iis, supporting, systems, management, server, sms, troubleshooting, lan, wan, internet, and, intranet, network, and, security, access, troubleshooting, network, connectivity, issues, related, to, tcpip, domain, name, service, dns, dynamic, host, configuration, protocol, dhcp, protocols, internet, security, and, acceleration, isa, proxy, server, and, vpn, troubleshooting, web, applicationpage, issues, client, browsers, and, related, software, administering, and, maintaining, of, end, user, accounts, permissions, and, access, rights, in, in, microsoft, active, directory, administering, and, maintaining, of, ntfs, security, permissions, on, the, file, servers, installing, configuring, and, maintaining, hardware, such, as, servers, workstations, laptops, printers, and, scanners, in, a, windows, enterprise, environment, installing, configuring, and, supporting, printers, on, the, print, servers, installing, configuring, and, supporting, microsoft, windows, server, 2000, and, 2003, microsoft, windows, xp, and, windows, vista, and, microsoft, office, xp, 2003, and, 2007, education, bachelor, of, science, information, technology, 2005, florida, international, univeristy, ï¼, city, state, united, states, coursework, in, programming, web, administration, network, administration, database, administration, and, systems, administration, â, linux, programming, languages, c, java, jsp, html, css, vbnet, bash, tsql, certifications, comptia, network, 2014, skills, active, directory, azure, antivirus, backup, exec, backup, bash, batch, cacti, cisco, asa, databases, dhcp, dns, documentation, datadomain, emc, enterprise, vault, epo, file, servers, firewall, gpo, html, iis, isa, ldap, linux, mcafee, exchange, microsoft, office, microsoft, windows, security, policies, powershell, programming, proxy, server, servers, scripts, solarwinds, sql, storsimple, troubleshooting, tmg, ubuntu, visual, basic, script, vbs, veritas, netbackup, vpn, vranger, veeam, vmware, vdi, virtual, manchine, nmap, zenmap'"
            ]
          },
          "execution_count": 49,
          "metadata": {},
          "output_type": "execute_result"
        }
      ],
      "source": [
        "cleaned_list = [re.sub(r'\\W+', '', string) for string in candidate_skills]\n",
        "\n",
        "result = ', '.join([string for string in cleaned_list if string.strip()])\n"
      ]
    },
    {
      "cell_type": "code",
      "execution_count": null,
      "metadata": {
        "colab": {
          "base_uri": "https://localhost:8080/",
          "height": 36
        },
        "id": "xcj6tOeHqbQj",
        "outputId": "892395a5-9235-4d4a-afc0-9c482e1ae080"
      },
      "outputs": [
        {
          "data": {
            "application/vnd.google.colaboratory.intrinsic+json": {
              "type": "string"
            },
            "text/plain": [
              "'Network Security Engineer'"
            ]
          },
          "execution_count": 50,
          "metadata": {},
          "output_type": "execute_result"
        }
      ],
      "source": [
        "new_df = pd.Series(result)\n",
        "pred = loaded_model.predict(new_inputs(new_df))\n",
        "pred[0]"
      ]
    },
    {
      "cell_type": "code",
      "execution_count": null,
      "metadata": {
        "colab": {
          "base_uri": "https://localhost:8080/"
        },
        "id": "2oZ7zq_M8D9d",
        "outputId": "a1fa0c82-6ee0-42d9-ae42-57d23ab388b0"
      },
      "outputs": [
        {
          "name": "stdout",
          "output_type": "stream",
          "text": [
            "<class 'str'>\n"
          ]
        }
      ],
      "source": [
        "candidate_resume = \"Python, python\"  # Sample candidate resume string\n",
        "\n",
        "# Split the string into a list of skills, remove duplicates, and strip spaces\n",
        "skills_list = candidate_resume.split(',')\n",
        "unique_skills = set()\n",
        "\n",
        "for skill in skills_list:\n",
        "    unique_skills.add(skill.strip().lower())  # Store lowercase skills in the set\n",
        "\n",
        "# Join the unique skills back into a string\n",
        "unique_resume = ', '.join(unique_skills)\n",
        "\n",
        "print(type(unique_resume))\n"
      ]
    },
    {
      "cell_type": "markdown",
      "metadata": {
        "id": "7VBWZEg1F-3v"
      },
      "source": [
        "newOPtimzs"
      ]
    },
    {
      "cell_type": "code",
      "execution_count": null,
      "metadata": {
        "id": "yZ30tqAT8Mkf"
      },
      "outputs": [],
      "source": [
        "import os\n",
        "import PyPDF2\n",
        "from nltk.tokenize import word_tokenize\n",
        "import shutil\n",
        "\n",
        "\n",
        "def extract_text_from_pdf(file_path):\n",
        "    with open(file_path, 'rb') as file:\n",
        "        reader = PyPDF2.PdfReader(file)\n",
        "        text = ''.join(page.extract_text() for page in reader.pages)\n",
        "    return text\n",
        "\n",
        "\n",
        "def extract_skills(text):\n",
        "    tokens = word_tokenize(text.lower())\n",
        "    return list(set(map(str.strip, tokens)))\n",
        "\n",
        "\n",
        "def calculate_match_score(job_skills, candidate_skills):\n",
        "    return len(job_skills.intersection(candidate_skills)) / len(job_skills) * 100\n",
        "\n",
        "\n",
        "# Sample Job Description (text data)\n",
        "job_description = \"Java\"\n",
        "job_skills = set(word_tokenize(job_description.lower()))\n",
        "\n",
        "# Folder paths\n",
        "resumes_folder = 'D:\\ResumeSortlister\\Java Developer'  # Replace with the path to the folder containing resumes\n",
        "selected_folder = 'Selected_candidates'  # Create a folder named 'Selected_candidates'\n",
        "\n",
        "threshold = 70  # Threshold for selection\n",
        "\n",
        "# Create 'Selected_candidates' folder if not exist\n",
        "if not os.path.exists(selected_folder):\n",
        "    os.makedirs(selected_folder)\n",
        "\n",
        "# Iterate through resumes in the folder\n",
        "for resume_file in os.listdir(resumes_folder):\n",
        "    resume_path = os.path.join(resumes_folder, resume_file)\n",
        "\n",
        "    # Extract text from the resume\n",
        "    resume_text = extract_text_from_pdf(resume_path)\n",
        "\n",
        "    # Extract unique skills from the resume text\n",
        "    candidate_skills = extract_skills(resume_text)\n",
        "\n",
        "    # Calculate match score\n",
        "    match_score = calculate_match_score(job_skills, set(candidate_skills))\n",
        "\n",
        "    # Check if the candidate meets the threshold\n",
        "    if match_score >= threshold:\n",
        "        # Move the selected resume to 'Selected_candidates' folder\n",
        "        shutil.move(resume_path, os.path.join(selected_folder, resume_file))\n",
        "        print(f\"{resume_file} selected with a match score of {match_score}%\")\n"
      ]
    }
  ],
  "metadata": {
    "accelerator": "GPU",
    "colab": {
      "gpuType": "T4",
      "provenance": []
    },
    "kernelspec": {
      "display_name": "Python 3",
      "name": "python3"
    },
    "language_info": {
      "name": "python"
    }
  },
  "nbformat": 4,
  "nbformat_minor": 0
}
